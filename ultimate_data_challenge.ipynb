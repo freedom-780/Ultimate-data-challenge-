{
 "cells": [
  {
   "cell_type": "markdown",
   "metadata": {},
   "source": [
    "# Ultimate Data Challenge"
   ]
  },
  {
   "attachments": {},
   "cell_type": "markdown",
   "metadata": {},
   "source": [
    "### Exploratory Data Analysis"
   ]
  },
  {
   "cell_type": "code",
   "execution_count": 1,
   "metadata": {},
   "outputs": [
    {
     "data": {
      "text/html": [
       "<div>\n",
       "<style scoped>\n",
       "    .dataframe tbody tr th:only-of-type {\n",
       "        vertical-align: middle;\n",
       "    }\n",
       "\n",
       "    .dataframe tbody tr th {\n",
       "        vertical-align: top;\n",
       "    }\n",
       "\n",
       "    .dataframe thead th {\n",
       "        text-align: right;\n",
       "    }\n",
       "</style>\n",
       "<table border=\"1\" class=\"dataframe\">\n",
       "  <thead>\n",
       "    <tr style=\"text-align: right;\">\n",
       "      <th></th>\n",
       "      <th>login_time</th>\n",
       "    </tr>\n",
       "  </thead>\n",
       "  <tbody>\n",
       "    <tr>\n",
       "      <th>0</th>\n",
       "      <td>1970-01-01 20:13:18</td>\n",
       "    </tr>\n",
       "    <tr>\n",
       "      <th>1</th>\n",
       "      <td>1970-01-01 20:16:10</td>\n",
       "    </tr>\n",
       "    <tr>\n",
       "      <th>2</th>\n",
       "      <td>1970-01-01 20:16:37</td>\n",
       "    </tr>\n",
       "    <tr>\n",
       "      <th>3</th>\n",
       "      <td>1970-01-01 20:16:36</td>\n",
       "    </tr>\n",
       "    <tr>\n",
       "      <th>4</th>\n",
       "      <td>1970-01-01 20:26:21</td>\n",
       "    </tr>\n",
       "  </tbody>\n",
       "</table>\n",
       "</div>"
      ],
      "text/plain": [
       "           login_time\n",
       "0 1970-01-01 20:13:18\n",
       "1 1970-01-01 20:16:10\n",
       "2 1970-01-01 20:16:37\n",
       "3 1970-01-01 20:16:36\n",
       "4 1970-01-01 20:26:21"
      ]
     },
     "execution_count": 1,
     "metadata": {},
     "output_type": "execute_result"
    }
   ],
   "source": [
    "import numpy as np\n",
    "import pandas as pd \n",
    "import matplotlib.pyplot as plt\n",
    "from datetime import datetime\n",
    "\n",
    "\n",
    "df_logins = pd.read_json(\"logins.json\")\n",
    "df_logins.head()"
   ]
  },
  {
   "cell_type": "code",
   "execution_count": 2,
   "metadata": {},
   "outputs": [
    {
     "name": "stdout",
     "output_type": "stream",
     "text": [
      "<class 'pandas.core.frame.DataFrame'>\n",
      "RangeIndex: 93142 entries, 0 to 93141\n",
      "Data columns (total 1 columns):\n",
      " #   Column      Non-Null Count  Dtype         \n",
      "---  ------      --------------  -----         \n",
      " 0   login_time  93142 non-null  datetime64[ns]\n",
      "dtypes: datetime64[ns](1)\n",
      "memory usage: 727.8 KB\n"
     ]
    }
   ],
   "source": [
    "df_logins.info()"
   ]
  },
  {
   "cell_type": "code",
   "execution_count": 3,
   "metadata": {},
   "outputs": [
    {
     "data": {
      "text/plain": [
       "False"
      ]
     },
     "execution_count": 3,
     "metadata": {},
     "output_type": "execute_result"
    }
   ],
   "source": [
    "df_logins.isnull().values.any()"
   ]
  },
  {
   "cell_type": "code",
   "execution_count": 4,
   "metadata": {},
   "outputs": [
    {
     "data": {
      "text/plain": [
       "False    92265\n",
       "True       877\n",
       "dtype: int64"
      ]
     },
     "execution_count": 4,
     "metadata": {},
     "output_type": "execute_result"
    }
   ],
   "source": [
    "df_logins.duplicated().value_counts()"
   ]
  },
  {
   "cell_type": "code",
   "execution_count": 5,
   "metadata": {},
   "outputs": [
    {
     "data": {
      "text/html": [
       "<div>\n",
       "<style scoped>\n",
       "    .dataframe tbody tr th:only-of-type {\n",
       "        vertical-align: middle;\n",
       "    }\n",
       "\n",
       "    .dataframe tbody tr th {\n",
       "        vertical-align: top;\n",
       "    }\n",
       "\n",
       "    .dataframe thead th {\n",
       "        text-align: right;\n",
       "    }\n",
       "</style>\n",
       "<table border=\"1\" class=\"dataframe\">\n",
       "  <thead>\n",
       "    <tr style=\"text-align: right;\">\n",
       "      <th></th>\n",
       "      <th>login_time</th>\n",
       "    </tr>\n",
       "  </thead>\n",
       "  <tbody>\n",
       "    <tr>\n",
       "      <th>354</th>\n",
       "      <td>1970-01-02 10:59:52</td>\n",
       "    </tr>\n",
       "    <tr>\n",
       "      <th>434</th>\n",
       "      <td>1970-01-02 12:27:48</td>\n",
       "    </tr>\n",
       "    <tr>\n",
       "      <th>506</th>\n",
       "      <td>1970-01-02 15:08:27</td>\n",
       "    </tr>\n",
       "    <tr>\n",
       "      <th>524</th>\n",
       "      <td>1970-01-02 16:14:36</td>\n",
       "    </tr>\n",
       "    <tr>\n",
       "      <th>675</th>\n",
       "      <td>1970-01-02 22:03:36</td>\n",
       "    </tr>\n",
       "    <tr>\n",
       "      <th>...</th>\n",
       "      <td>...</td>\n",
       "    </tr>\n",
       "    <tr>\n",
       "      <th>92051</th>\n",
       "      <td>1970-04-12 05:24:21</td>\n",
       "    </tr>\n",
       "    <tr>\n",
       "      <th>92367</th>\n",
       "      <td>1970-04-12 15:46:43</td>\n",
       "    </tr>\n",
       "    <tr>\n",
       "      <th>92439</th>\n",
       "      <td>1970-04-12 17:12:21</td>\n",
       "    </tr>\n",
       "    <tr>\n",
       "      <th>92986</th>\n",
       "      <td>1970-04-13 12:23:46</td>\n",
       "    </tr>\n",
       "    <tr>\n",
       "      <th>93022</th>\n",
       "      <td>1970-04-13 13:44:18</td>\n",
       "    </tr>\n",
       "  </tbody>\n",
       "</table>\n",
       "<p>877 rows × 1 columns</p>\n",
       "</div>"
      ],
      "text/plain": [
       "               login_time\n",
       "354   1970-01-02 10:59:52\n",
       "434   1970-01-02 12:27:48\n",
       "506   1970-01-02 15:08:27\n",
       "524   1970-01-02 16:14:36\n",
       "675   1970-01-02 22:03:36\n",
       "...                   ...\n",
       "92051 1970-04-12 05:24:21\n",
       "92367 1970-04-12 15:46:43\n",
       "92439 1970-04-12 17:12:21\n",
       "92986 1970-04-13 12:23:46\n",
       "93022 1970-04-13 13:44:18\n",
       "\n",
       "[877 rows x 1 columns]"
      ]
     },
     "execution_count": 5,
     "metadata": {},
     "output_type": "execute_result"
    }
   ],
   "source": [
    "# investage more the duplicated items\n",
    "\n",
    "df_logins[df_logins.duplicated()]"
   ]
  },
  {
   "attachments": {},
   "cell_type": "markdown",
   "metadata": {},
   "source": [
    "looks like the duplicates have have the same month date and year, need to break apart the timestame for more detail, doesn't like exact duplicates"
   ]
  },
  {
   "cell_type": "code",
   "execution_count": 6,
   "metadata": {},
   "outputs": [
    {
     "data": {
      "text/plain": [
       "1970-03-17 01:01:39    3\n",
       "1970-01-06 21:45:52    3\n",
       "1970-03-29 03:24:57    3\n",
       "1970-04-12 04:03:15    3\n",
       "1970-04-04 01:17:40    3\n",
       "                      ..\n",
       "1970-02-13 21:05:25    1\n",
       "1970-02-13 21:10:52    1\n",
       "1970-02-13 21:20:04    1\n",
       "1970-02-13 21:12:19    1\n",
       "1970-04-13 18:54:23    1\n",
       "Name: login_time, Length: 92265, dtype: int64"
      ]
     },
     "execution_count": 6,
     "metadata": {},
     "output_type": "execute_result"
    }
   ],
   "source": [
    "df_logins['login_time'].value_counts()"
   ]
  },
  {
   "cell_type": "code",
   "execution_count": null,
   "metadata": {},
   "outputs": [],
   "source": []
  },
  {
   "cell_type": "markdown",
   "metadata": {},
   "source": []
  },
  {
   "cell_type": "code",
   "execution_count": 7,
   "metadata": {},
   "outputs": [],
   "source": [
    "df_logins['login_time'] = pd.to_datetime(df_logins.login_time, format='%Y-%b-%d %H:%M:%S')"
   ]
  },
  {
   "cell_type": "code",
   "execution_count": 8,
   "metadata": {},
   "outputs": [
    {
     "name": "stdout",
     "output_type": "stream",
     "text": [
      "<class 'pandas.core.frame.DataFrame'>\n",
      "RangeIndex: 93142 entries, 0 to 93141\n",
      "Data columns (total 1 columns):\n",
      " #   Column      Non-Null Count  Dtype         \n",
      "---  ------      --------------  -----         \n",
      " 0   login_time  93142 non-null  datetime64[ns]\n",
      "dtypes: datetime64[ns](1)\n",
      "memory usage: 727.8 KB\n"
     ]
    }
   ],
   "source": [
    "df_logins.info()"
   ]
  },
  {
   "cell_type": "code",
   "execution_count": 9,
   "metadata": {},
   "outputs": [],
   "source": [
    "df_logins['Count'] = 1"
   ]
  },
  {
   "cell_type": "code",
   "execution_count": 10,
   "metadata": {},
   "outputs": [
    {
     "data": {
      "text/html": [
       "<div>\n",
       "<style scoped>\n",
       "    .dataframe tbody tr th:only-of-type {\n",
       "        vertical-align: middle;\n",
       "    }\n",
       "\n",
       "    .dataframe tbody tr th {\n",
       "        vertical-align: top;\n",
       "    }\n",
       "\n",
       "    .dataframe thead th {\n",
       "        text-align: right;\n",
       "    }\n",
       "</style>\n",
       "<table border=\"1\" class=\"dataframe\">\n",
       "  <thead>\n",
       "    <tr style=\"text-align: right;\">\n",
       "      <th></th>\n",
       "      <th>login_time</th>\n",
       "      <th>Count</th>\n",
       "    </tr>\n",
       "  </thead>\n",
       "  <tbody>\n",
       "    <tr>\n",
       "      <th>0</th>\n",
       "      <td>1970-01-01 20:13:18</td>\n",
       "      <td>1</td>\n",
       "    </tr>\n",
       "    <tr>\n",
       "      <th>1</th>\n",
       "      <td>1970-01-01 20:16:10</td>\n",
       "      <td>1</td>\n",
       "    </tr>\n",
       "    <tr>\n",
       "      <th>2</th>\n",
       "      <td>1970-01-01 20:16:37</td>\n",
       "      <td>1</td>\n",
       "    </tr>\n",
       "    <tr>\n",
       "      <th>3</th>\n",
       "      <td>1970-01-01 20:16:36</td>\n",
       "      <td>1</td>\n",
       "    </tr>\n",
       "    <tr>\n",
       "      <th>4</th>\n",
       "      <td>1970-01-01 20:26:21</td>\n",
       "      <td>1</td>\n",
       "    </tr>\n",
       "  </tbody>\n",
       "</table>\n",
       "</div>"
      ],
      "text/plain": [
       "           login_time  Count\n",
       "0 1970-01-01 20:13:18      1\n",
       "1 1970-01-01 20:16:10      1\n",
       "2 1970-01-01 20:16:37      1\n",
       "3 1970-01-01 20:16:36      1\n",
       "4 1970-01-01 20:26:21      1"
      ]
     },
     "execution_count": 10,
     "metadata": {},
     "output_type": "execute_result"
    }
   ],
   "source": [
    "df_logins.head()"
   ]
  },
  {
   "cell_type": "code",
   "execution_count": 11,
   "metadata": {},
   "outputs": [],
   "source": [
    "df_agg = pd.DataFrame(df_logins.groupby([pd.Grouper(key='login_time', freq='15Min')]).sum()).reset_index()"
   ]
  },
  {
   "cell_type": "code",
   "execution_count": 12,
   "metadata": {},
   "outputs": [
    {
     "data": {
      "text/html": [
       "<div>\n",
       "<style scoped>\n",
       "    .dataframe tbody tr th:only-of-type {\n",
       "        vertical-align: middle;\n",
       "    }\n",
       "\n",
       "    .dataframe tbody tr th {\n",
       "        vertical-align: top;\n",
       "    }\n",
       "\n",
       "    .dataframe thead th {\n",
       "        text-align: right;\n",
       "    }\n",
       "</style>\n",
       "<table border=\"1\" class=\"dataframe\">\n",
       "  <thead>\n",
       "    <tr style=\"text-align: right;\">\n",
       "      <th></th>\n",
       "      <th>login_time</th>\n",
       "      <th>Count</th>\n",
       "    </tr>\n",
       "  </thead>\n",
       "  <tbody>\n",
       "    <tr>\n",
       "      <th>0</th>\n",
       "      <td>1970-01-01 20:00:00</td>\n",
       "      <td>2</td>\n",
       "    </tr>\n",
       "    <tr>\n",
       "      <th>1</th>\n",
       "      <td>1970-01-01 20:15:00</td>\n",
       "      <td>6</td>\n",
       "    </tr>\n",
       "    <tr>\n",
       "      <th>2</th>\n",
       "      <td>1970-01-01 20:30:00</td>\n",
       "      <td>9</td>\n",
       "    </tr>\n",
       "    <tr>\n",
       "      <th>3</th>\n",
       "      <td>1970-01-01 20:45:00</td>\n",
       "      <td>7</td>\n",
       "    </tr>\n",
       "    <tr>\n",
       "      <th>4</th>\n",
       "      <td>1970-01-01 21:00:00</td>\n",
       "      <td>1</td>\n",
       "    </tr>\n",
       "    <tr>\n",
       "      <th>...</th>\n",
       "      <td>...</td>\n",
       "      <td>...</td>\n",
       "    </tr>\n",
       "    <tr>\n",
       "      <th>9783</th>\n",
       "      <td>1970-04-13 17:45:00</td>\n",
       "      <td>5</td>\n",
       "    </tr>\n",
       "    <tr>\n",
       "      <th>9784</th>\n",
       "      <td>1970-04-13 18:00:00</td>\n",
       "      <td>5</td>\n",
       "    </tr>\n",
       "    <tr>\n",
       "      <th>9785</th>\n",
       "      <td>1970-04-13 18:15:00</td>\n",
       "      <td>2</td>\n",
       "    </tr>\n",
       "    <tr>\n",
       "      <th>9786</th>\n",
       "      <td>1970-04-13 18:30:00</td>\n",
       "      <td>7</td>\n",
       "    </tr>\n",
       "    <tr>\n",
       "      <th>9787</th>\n",
       "      <td>1970-04-13 18:45:00</td>\n",
       "      <td>6</td>\n",
       "    </tr>\n",
       "  </tbody>\n",
       "</table>\n",
       "<p>9788 rows × 2 columns</p>\n",
       "</div>"
      ],
      "text/plain": [
       "              login_time  Count\n",
       "0    1970-01-01 20:00:00      2\n",
       "1    1970-01-01 20:15:00      6\n",
       "2    1970-01-01 20:30:00      9\n",
       "3    1970-01-01 20:45:00      7\n",
       "4    1970-01-01 21:00:00      1\n",
       "...                  ...    ...\n",
       "9783 1970-04-13 17:45:00      5\n",
       "9784 1970-04-13 18:00:00      5\n",
       "9785 1970-04-13 18:15:00      2\n",
       "9786 1970-04-13 18:30:00      7\n",
       "9787 1970-04-13 18:45:00      6\n",
       "\n",
       "[9788 rows x 2 columns]"
      ]
     },
     "execution_count": 12,
     "metadata": {},
     "output_type": "execute_result"
    }
   ],
   "source": [
    "df_agg"
   ]
  },
  {
   "cell_type": "code",
   "execution_count": 13,
   "metadata": {},
   "outputs": [],
   "source": [
    "df_agg = df_agg.set_index('login_time')"
   ]
  },
  {
   "cell_type": "code",
   "execution_count": 14,
   "metadata": {},
   "outputs": [
    {
     "name": "stdout",
     "output_type": "stream",
     "text": [
      "<class 'pandas.core.frame.DataFrame'>\n",
      "DatetimeIndex: 9788 entries, 1970-01-01 20:00:00 to 1970-04-13 18:45:00\n",
      "Data columns (total 1 columns):\n",
      " #   Column  Non-Null Count  Dtype\n",
      "---  ------  --------------  -----\n",
      " 0   Count   9788 non-null   int64\n",
      "dtypes: int64(1)\n",
      "memory usage: 152.9 KB\n"
     ]
    }
   ],
   "source": [
    "df_agg.info()"
   ]
  },
  {
   "cell_type": "code",
   "execution_count": 15,
   "metadata": {},
   "outputs": [],
   "source": [
    "df_agg['month'] = df_agg.index.month"
   ]
  },
  {
   "cell_type": "code",
   "execution_count": 16,
   "metadata": {},
   "outputs": [
    {
     "data": {
      "text/html": [
       "<div>\n",
       "<style scoped>\n",
       "    .dataframe tbody tr th:only-of-type {\n",
       "        vertical-align: middle;\n",
       "    }\n",
       "\n",
       "    .dataframe tbody tr th {\n",
       "        vertical-align: top;\n",
       "    }\n",
       "\n",
       "    .dataframe thead th {\n",
       "        text-align: right;\n",
       "    }\n",
       "</style>\n",
       "<table border=\"1\" class=\"dataframe\">\n",
       "  <thead>\n",
       "    <tr style=\"text-align: right;\">\n",
       "      <th></th>\n",
       "      <th>Count</th>\n",
       "      <th>month</th>\n",
       "    </tr>\n",
       "    <tr>\n",
       "      <th>login_time</th>\n",
       "      <th></th>\n",
       "      <th></th>\n",
       "    </tr>\n",
       "  </thead>\n",
       "  <tbody>\n",
       "    <tr>\n",
       "      <th>1970-01-01 20:00:00</th>\n",
       "      <td>2</td>\n",
       "      <td>1</td>\n",
       "    </tr>\n",
       "    <tr>\n",
       "      <th>1970-01-01 20:15:00</th>\n",
       "      <td>6</td>\n",
       "      <td>1</td>\n",
       "    </tr>\n",
       "    <tr>\n",
       "      <th>1970-01-01 20:30:00</th>\n",
       "      <td>9</td>\n",
       "      <td>1</td>\n",
       "    </tr>\n",
       "    <tr>\n",
       "      <th>1970-01-01 20:45:00</th>\n",
       "      <td>7</td>\n",
       "      <td>1</td>\n",
       "    </tr>\n",
       "    <tr>\n",
       "      <th>1970-01-01 21:00:00</th>\n",
       "      <td>1</td>\n",
       "      <td>1</td>\n",
       "    </tr>\n",
       "  </tbody>\n",
       "</table>\n",
       "</div>"
      ],
      "text/plain": [
       "                     Count  month\n",
       "login_time                       \n",
       "1970-01-01 20:00:00      2      1\n",
       "1970-01-01 20:15:00      6      1\n",
       "1970-01-01 20:30:00      9      1\n",
       "1970-01-01 20:45:00      7      1\n",
       "1970-01-01 21:00:00      1      1"
      ]
     },
     "execution_count": 16,
     "metadata": {},
     "output_type": "execute_result"
    }
   ],
   "source": [
    "df_agg.head()"
   ]
  },
  {
   "cell_type": "code",
   "execution_count": 17,
   "metadata": {},
   "outputs": [],
   "source": [
    "plt.style.use('ggplot')"
   ]
  },
  {
   "cell_type": "code",
   "execution_count": 18,
   "metadata": {},
   "outputs": [],
   "source": [
    "plt.rcParams[\"figure.figsize\"] = (10,3)"
   ]
  },
  {
   "cell_type": "code",
   "execution_count": 19,
   "metadata": {},
   "outputs": [],
   "source": [
    "y = df_agg['Count']"
   ]
  },
  {
   "cell_type": "code",
   "execution_count": 20,
   "metadata": {},
   "outputs": [
    {
     "data": {
      "text/plain": [
       "[<matplotlib.lines.Line2D at 0x28cde713640>]"
      ]
     },
     "execution_count": 20,
     "metadata": {},
     "output_type": "execute_result"
    },
    {
     "data": {
      "image/png": "[encoded data removed]",
      "text/plain": [
       "<Figure size 1000x300 with 1 Axes>"
      ]
     },
     "metadata": {},
     "output_type": "display_data"
    }
   ],
   "source": [
    "plt.plot('month','Count', data = df_agg)"
   ]
  },
  {
   "cell_type": "markdown",
   "metadata": {},
   "source": [
    "looks like 2 months there seems to be a trend the increase in login times from January to March and drops off a bit after April. "
   ]
  },
  {
   "cell_type": "code",
   "execution_count": 21,
   "metadata": {},
   "outputs": [
    {
     "data": {
      "text/plain": [
       "<AxesSubplot: >"
      ]
     },
     "execution_count": 21,
     "metadata": {},
     "output_type": "execute_result"
    },
    {
     "data": {
      "image/png": "[encoded data removed]",
      "text/plain": [
       "<Figure size 1000x300 with 1 Axes>"
      ]
     },
     "metadata": {},
     "output_type": "display_data"
    }
   ],
   "source": [
    "y.hist()"
   ]
  },
  {
   "attachments": {},
   "cell_type": "markdown",
   "metadata": {},
   "source": [
    "## Part 2"
   ]
  },
  {
   "attachments": {},
   "cell_type": "markdown",
   "metadata": {},
   "source": [
    "The key measure of success for this experiment would be the increase in the number of driver partners who operate in both cities after the toll reimbursement program is implemented. This metric can be measured by comparing the number of driver partners who cross the toll bridge before and after the program starts.\n",
    "\n",
    "By tracking the number of driver partners who operate in both cities, the experiment's success can be evaluated. If the toll reimbursement program is successful, there should be an increase in the number of driver partners who cross the toll bridge to serve both cities. This will lead to a decrease in wait times for customers and an increase in the efficiency of the ride-sharing service in both cities.\n",
    "\n",
    "Furthermore, this metric is easy to measure, track, and report, making it a suitable choice for evaluating the success of the experiment. Other metrics such as the revenue generated by driver partners or customer satisfaction can also be considered, but they are indirectly related to the experiment's goal and may not be as accurate in measuring the success of the program.\n",
    "\n",
    "To design a practical experiment to compare the effectiveness of the proposed change:\n",
    "\n",
    "a) **Experiment Implementation:**\n",
    "\n",
    "    Select a sample of driver partners who currently operate exclusively in one city and are not reimbursed for toll costs.\n",
    "    Randomly assign half of the sample to a treatment group that will be reimbursed for toll costs when driving to the other city, and the other half to a control group that will not be reimbursed for toll costs.\n",
    "    Implement the toll reimbursement program for the treatment group and monitor the number of driver partners who cross the toll bridge to serve both cities.\n",
    "    Collect data on the number of toll reimbursements processed, the number of driver partners who operate in both cities, and the number of rides completed in each city.\n",
    "\n",
    "b) **Statistical Test:**\n",
    "\n",
    "    To verify the significance of the observation, we can conduct a t-test. The t-test will be used to compare the mean number of driver partners who cross the toll bridge in the treatment group and the control group. The null hypothesis is that they are the same and the alternate hypothesis is that they are equal.\n",
    "\n",
    "c) **Results Interpretation and Recommendations:**\n",
    "\n",
    "    If the results show a statistically significant difference between the treatment and control groups, we can conclude that the toll reimbursement program was effective in encouraging driver partners to serve both cities. We can recommend that the city operations team implement the program for all driver partners and monitor the impact on wait times and efficiency.\n",
    "\n",
    "    However, there are some downsides. The toll reimbursement program may not be effective for all driver partners, and some may still choose to operate exclusively in one city due to personal preferences or other factors. Additionally, the program may have unintended consequences, such as increased traffic on the toll bridge or increased costs for the ride-sharing service. Therefore, it is important to monitor the program's impact and make adjustments as necessary.\n",
    "\n",
    "    The length of time that the experiment needs to be performaned is several weeks to have enough data points especailly on the weekends since both cities are acitive and drivers have incentive to use the toll bridge, but weekdays should also be sampled."
   ]
  },
  {
   "attachments": {},
   "cell_type": "markdown",
   "metadata": {},
   "source": [
    "## Part 3"
   ]
  },
  {
   "cell_type": "code",
   "execution_count": 22,
   "metadata": {},
   "outputs": [],
   "source": [
    "df_r = pd.read_json(\"ultimate_data_challenge.json\")"
   ]
  },
  {
   "cell_type": "code",
   "execution_count": 23,
   "metadata": {},
   "outputs": [
    {
     "data": {
      "text/html": [
       "<div>\n",
       "<style scoped>\n",
       "    .dataframe tbody tr th:only-of-type {\n",
       "        vertical-align: middle;\n",
       "    }\n",
       "\n",
       "    .dataframe tbody tr th {\n",
       "        vertical-align: top;\n",
       "    }\n",
       "\n",
       "    .dataframe thead th {\n",
       "        text-align: right;\n",
       "    }\n",
       "</style>\n",
       "<table border=\"1\" class=\"dataframe\">\n",
       "  <thead>\n",
       "    <tr style=\"text-align: right;\">\n",
       "      <th></th>\n",
       "      <th>city</th>\n",
       "      <th>trips_in_first_30_days</th>\n",
       "      <th>signup_date</th>\n",
       "      <th>avg_rating_of_driver</th>\n",
       "      <th>avg_surge</th>\n",
       "      <th>last_trip_date</th>\n",
       "      <th>phone</th>\n",
       "      <th>surge_pct</th>\n",
       "      <th>ultimate_black_user</th>\n",
       "      <th>weekday_pct</th>\n",
       "      <th>avg_dist</th>\n",
       "      <th>avg_rating_by_driver</th>\n",
       "    </tr>\n",
       "  </thead>\n",
       "  <tbody>\n",
       "    <tr>\n",
       "      <th>0</th>\n",
       "      <td>King's Landing</td>\n",
       "      <td>4</td>\n",
       "      <td>2014-01-25</td>\n",
       "      <td>4.7</td>\n",
       "      <td>1.10</td>\n",
       "      <td>2014-06-17</td>\n",
       "      <td>iPhone</td>\n",
       "      <td>15.4</td>\n",
       "      <td>True</td>\n",
       "      <td>46.2</td>\n",
       "      <td>3.67</td>\n",
       "      <td>5.0</td>\n",
       "    </tr>\n",
       "    <tr>\n",
       "      <th>1</th>\n",
       "      <td>Astapor</td>\n",
       "      <td>0</td>\n",
       "      <td>2014-01-29</td>\n",
       "      <td>5.0</td>\n",
       "      <td>1.00</td>\n",
       "      <td>2014-05-05</td>\n",
       "      <td>Android</td>\n",
       "      <td>0.0</td>\n",
       "      <td>False</td>\n",
       "      <td>50.0</td>\n",
       "      <td>8.26</td>\n",
       "      <td>5.0</td>\n",
       "    </tr>\n",
       "    <tr>\n",
       "      <th>2</th>\n",
       "      <td>Astapor</td>\n",
       "      <td>3</td>\n",
       "      <td>2014-01-06</td>\n",
       "      <td>4.3</td>\n",
       "      <td>1.00</td>\n",
       "      <td>2014-01-07</td>\n",
       "      <td>iPhone</td>\n",
       "      <td>0.0</td>\n",
       "      <td>False</td>\n",
       "      <td>100.0</td>\n",
       "      <td>0.77</td>\n",
       "      <td>5.0</td>\n",
       "    </tr>\n",
       "    <tr>\n",
       "      <th>3</th>\n",
       "      <td>King's Landing</td>\n",
       "      <td>9</td>\n",
       "      <td>2014-01-10</td>\n",
       "      <td>4.6</td>\n",
       "      <td>1.14</td>\n",
       "      <td>2014-06-29</td>\n",
       "      <td>iPhone</td>\n",
       "      <td>20.0</td>\n",
       "      <td>True</td>\n",
       "      <td>80.0</td>\n",
       "      <td>2.36</td>\n",
       "      <td>4.9</td>\n",
       "    </tr>\n",
       "    <tr>\n",
       "      <th>4</th>\n",
       "      <td>Winterfell</td>\n",
       "      <td>14</td>\n",
       "      <td>2014-01-27</td>\n",
       "      <td>4.4</td>\n",
       "      <td>1.19</td>\n",
       "      <td>2014-03-15</td>\n",
       "      <td>Android</td>\n",
       "      <td>11.8</td>\n",
       "      <td>False</td>\n",
       "      <td>82.4</td>\n",
       "      <td>3.13</td>\n",
       "      <td>4.9</td>\n",
       "    </tr>\n",
       "  </tbody>\n",
       "</table>\n",
       "</div>"
      ],
      "text/plain": [
       "             city  trips_in_first_30_days signup_date  avg_rating_of_driver  \\\n",
       "0  King's Landing                       4  2014-01-25                   4.7   \n",
       "1         Astapor                       0  2014-01-29                   5.0   \n",
       "2         Astapor                       3  2014-01-06                   4.3   \n",
       "3  King's Landing                       9  2014-01-10                   4.6   \n",
       "4      Winterfell                      14  2014-01-27                   4.4   \n",
       "\n",
       "   avg_surge last_trip_date    phone  surge_pct  ultimate_black_user  \\\n",
       "0       1.10     2014-06-17   iPhone       15.4                 True   \n",
       "1       1.00     2014-05-05  Android        0.0                False   \n",
       "2       1.00     2014-01-07   iPhone        0.0                False   \n",
       "3       1.14     2014-06-29   iPhone       20.0                 True   \n",
       "4       1.19     2014-03-15  Android       11.8                False   \n",
       "\n",
       "   weekday_pct  avg_dist  avg_rating_by_driver  \n",
       "0         46.2      3.67                   5.0  \n",
       "1         50.0      8.26                   5.0  \n",
       "2        100.0      0.77                   5.0  \n",
       "3         80.0      2.36                   4.9  \n",
       "4         82.4      3.13                   4.9  "
      ]
     },
     "execution_count": 23,
     "metadata": {},
     "output_type": "execute_result"
    }
   ],
   "source": [
    "df_r.head()"
   ]
  },
  {
   "cell_type": "code",
   "execution_count": 24,
   "metadata": {},
   "outputs": [
    {
     "name": "stdout",
     "output_type": "stream",
     "text": [
      "<class 'pandas.core.frame.DataFrame'>\n",
      "RangeIndex: 50000 entries, 0 to 49999\n",
      "Data columns (total 12 columns):\n",
      " #   Column                  Non-Null Count  Dtype  \n",
      "---  ------                  --------------  -----  \n",
      " 0   city                    50000 non-null  object \n",
      " 1   trips_in_first_30_days  50000 non-null  int64  \n",
      " 2   signup_date             50000 non-null  object \n",
      " 3   avg_rating_of_driver    41878 non-null  float64\n",
      " 4   avg_surge               50000 non-null  float64\n",
      " 5   last_trip_date          50000 non-null  object \n",
      " 6   phone                   49604 non-null  object \n",
      " 7   surge_pct               50000 non-null  float64\n",
      " 8   ultimate_black_user     50000 non-null  bool   \n",
      " 9   weekday_pct             50000 non-null  float64\n",
      " 10  avg_dist                50000 non-null  float64\n",
      " 11  avg_rating_by_driver    49799 non-null  float64\n",
      "dtypes: bool(1), float64(6), int64(1), object(4)\n",
      "memory usage: 4.2+ MB\n"
     ]
    }
   ],
   "source": [
    "df_r.info()"
   ]
  },
  {
   "attachments": {},
   "cell_type": "markdown",
   "metadata": {},
   "source": [
    "data is in tidy format, every row is on observation, and every column is a varible, for data cleaning I first look if it's in the right structure , then if it's messy such as missing values, and duplicates. Looking at the info above it appears that some columns have some missing values."
   ]
  },
  {
   "cell_type": "code",
   "execution_count": 25,
   "metadata": {},
   "outputs": [
    {
     "name": "stdout",
     "output_type": "stream",
     "text": [
      "Shape of mass shooting data: (50000, 12)\n",
      "Number of mission values in mass shooting data: city                         0\n",
      "trips_in_first_30_days       0\n",
      "signup_date                  0\n",
      "avg_rating_of_driver      8122\n",
      "avg_surge                    0\n",
      "last_trip_date               0\n",
      "phone                      396\n",
      "surge_pct                    0\n",
      "ultimate_black_user          0\n",
      "weekday_pct                  0\n",
      "avg_dist                     0\n",
      "avg_rating_by_driver       201\n",
      "dtype: int64\n",
      "Number of duplicate values in mass shooting data: 8\n"
     ]
    }
   ],
   "source": [
    "print(f\"Shape of mass shooting data: {df_r.shape}\")\n",
    "print(f\"Number of mission values in mass shooting data: \\\n",
    "{df_r.isnull().sum()}\")\n",
    "print(f\"Number of duplicate values in mass shooting data: \\\n",
    "{df_r.duplicated().sum()}\")"
   ]
  },
  {
   "cell_type": "code",
   "execution_count": 26,
   "metadata": {},
   "outputs": [
    {
     "data": {
      "text/html": [
       "<div>\n",
       "<style scoped>\n",
       "    .dataframe tbody tr th:only-of-type {\n",
       "        vertical-align: middle;\n",
       "    }\n",
       "\n",
       "    .dataframe tbody tr th {\n",
       "        vertical-align: top;\n",
       "    }\n",
       "\n",
       "    .dataframe thead th {\n",
       "        text-align: right;\n",
       "    }\n",
       "</style>\n",
       "<table border=\"1\" class=\"dataframe\">\n",
       "  <thead>\n",
       "    <tr style=\"text-align: right;\">\n",
       "      <th></th>\n",
       "      <th>city</th>\n",
       "      <th>trips_in_first_30_days</th>\n",
       "      <th>signup_date</th>\n",
       "      <th>avg_rating_of_driver</th>\n",
       "      <th>avg_surge</th>\n",
       "      <th>last_trip_date</th>\n",
       "      <th>phone</th>\n",
       "      <th>surge_pct</th>\n",
       "      <th>ultimate_black_user</th>\n",
       "      <th>weekday_pct</th>\n",
       "      <th>avg_dist</th>\n",
       "      <th>avg_rating_by_driver</th>\n",
       "    </tr>\n",
       "  </thead>\n",
       "  <tbody>\n",
       "    <tr>\n",
       "      <th>6</th>\n",
       "      <td>Astapor</td>\n",
       "      <td>1</td>\n",
       "      <td>2014-01-24</td>\n",
       "      <td>NaN</td>\n",
       "      <td>1.0</td>\n",
       "      <td>2014-01-25</td>\n",
       "      <td>Android</td>\n",
       "      <td>0.0</td>\n",
       "      <td>False</td>\n",
       "      <td>100.0</td>\n",
       "      <td>3.95</td>\n",
       "      <td>4.0</td>\n",
       "    </tr>\n",
       "    <tr>\n",
       "      <th>9</th>\n",
       "      <td>Winterfell</td>\n",
       "      <td>1</td>\n",
       "      <td>2014-01-03</td>\n",
       "      <td>NaN</td>\n",
       "      <td>1.0</td>\n",
       "      <td>2014-01-05</td>\n",
       "      <td>Android</td>\n",
       "      <td>0.0</td>\n",
       "      <td>False</td>\n",
       "      <td>0.0</td>\n",
       "      <td>2.37</td>\n",
       "      <td>5.0</td>\n",
       "    </tr>\n",
       "    <tr>\n",
       "      <th>12</th>\n",
       "      <td>Winterfell</td>\n",
       "      <td>1</td>\n",
       "      <td>2014-01-15</td>\n",
       "      <td>NaN</td>\n",
       "      <td>1.0</td>\n",
       "      <td>2014-03-12</td>\n",
       "      <td>iPhone</td>\n",
       "      <td>0.0</td>\n",
       "      <td>False</td>\n",
       "      <td>100.0</td>\n",
       "      <td>20.29</td>\n",
       "      <td>5.0</td>\n",
       "    </tr>\n",
       "    <tr>\n",
       "      <th>14</th>\n",
       "      <td>Astapor</td>\n",
       "      <td>1</td>\n",
       "      <td>2014-01-27</td>\n",
       "      <td>NaN</td>\n",
       "      <td>1.0</td>\n",
       "      <td>2014-01-28</td>\n",
       "      <td>Android</td>\n",
       "      <td>0.0</td>\n",
       "      <td>False</td>\n",
       "      <td>100.0</td>\n",
       "      <td>26.01</td>\n",
       "      <td>5.0</td>\n",
       "    </tr>\n",
       "    <tr>\n",
       "      <th>15</th>\n",
       "      <td>Winterfell</td>\n",
       "      <td>1</td>\n",
       "      <td>2014-01-15</td>\n",
       "      <td>NaN</td>\n",
       "      <td>1.0</td>\n",
       "      <td>2014-01-16</td>\n",
       "      <td>Android</td>\n",
       "      <td>0.0</td>\n",
       "      <td>True</td>\n",
       "      <td>100.0</td>\n",
       "      <td>13.20</td>\n",
       "      <td>5.0</td>\n",
       "    </tr>\n",
       "    <tr>\n",
       "      <th>...</th>\n",
       "      <td>...</td>\n",
       "      <td>...</td>\n",
       "      <td>...</td>\n",
       "      <td>...</td>\n",
       "      <td>...</td>\n",
       "      <td>...</td>\n",
       "      <td>...</td>\n",
       "      <td>...</td>\n",
       "      <td>...</td>\n",
       "      <td>...</td>\n",
       "      <td>...</td>\n",
       "      <td>...</td>\n",
       "    </tr>\n",
       "    <tr>\n",
       "      <th>49984</th>\n",
       "      <td>Winterfell</td>\n",
       "      <td>1</td>\n",
       "      <td>2014-01-26</td>\n",
       "      <td>NaN</td>\n",
       "      <td>1.0</td>\n",
       "      <td>2014-01-26</td>\n",
       "      <td>Android</td>\n",
       "      <td>0.0</td>\n",
       "      <td>False</td>\n",
       "      <td>0.0</td>\n",
       "      <td>3.50</td>\n",
       "      <td>5.0</td>\n",
       "    </tr>\n",
       "    <tr>\n",
       "      <th>49985</th>\n",
       "      <td>Astapor</td>\n",
       "      <td>1</td>\n",
       "      <td>2014-01-26</td>\n",
       "      <td>NaN</td>\n",
       "      <td>1.0</td>\n",
       "      <td>2014-02-25</td>\n",
       "      <td>Android</td>\n",
       "      <td>0.0</td>\n",
       "      <td>False</td>\n",
       "      <td>100.0</td>\n",
       "      <td>1.38</td>\n",
       "      <td>5.0</td>\n",
       "    </tr>\n",
       "    <tr>\n",
       "      <th>49989</th>\n",
       "      <td>Winterfell</td>\n",
       "      <td>1</td>\n",
       "      <td>2014-01-24</td>\n",
       "      <td>NaN</td>\n",
       "      <td>1.0</td>\n",
       "      <td>2014-01-31</td>\n",
       "      <td>iPhone</td>\n",
       "      <td>0.0</td>\n",
       "      <td>False</td>\n",
       "      <td>100.0</td>\n",
       "      <td>0.00</td>\n",
       "      <td>5.0</td>\n",
       "    </tr>\n",
       "    <tr>\n",
       "      <th>49996</th>\n",
       "      <td>Astapor</td>\n",
       "      <td>1</td>\n",
       "      <td>2014-01-24</td>\n",
       "      <td>NaN</td>\n",
       "      <td>1.0</td>\n",
       "      <td>2014-01-25</td>\n",
       "      <td>iPhone</td>\n",
       "      <td>0.0</td>\n",
       "      <td>False</td>\n",
       "      <td>0.0</td>\n",
       "      <td>0.00</td>\n",
       "      <td>4.0</td>\n",
       "    </tr>\n",
       "    <tr>\n",
       "      <th>49999</th>\n",
       "      <td>Astapor</td>\n",
       "      <td>0</td>\n",
       "      <td>2014-01-18</td>\n",
       "      <td>NaN</td>\n",
       "      <td>1.0</td>\n",
       "      <td>2014-04-20</td>\n",
       "      <td>Android</td>\n",
       "      <td>0.0</td>\n",
       "      <td>False</td>\n",
       "      <td>0.0</td>\n",
       "      <td>3.49</td>\n",
       "      <td>5.0</td>\n",
       "    </tr>\n",
       "  </tbody>\n",
       "</table>\n",
       "<p>8122 rows × 12 columns</p>\n",
       "</div>"
      ],
      "text/plain": [
       "             city  trips_in_first_30_days signup_date  avg_rating_of_driver  \\\n",
       "6         Astapor                       1  2014-01-24                   NaN   \n",
       "9      Winterfell                       1  2014-01-03                   NaN   \n",
       "12     Winterfell                       1  2014-01-15                   NaN   \n",
       "14        Astapor                       1  2014-01-27                   NaN   \n",
       "15     Winterfell                       1  2014-01-15                   NaN   \n",
       "...           ...                     ...         ...                   ...   \n",
       "49984  Winterfell                       1  2014-01-26                   NaN   \n",
       "49985     Astapor                       1  2014-01-26                   NaN   \n",
       "49989  Winterfell                       1  2014-01-24                   NaN   \n",
       "49996     Astapor                       1  2014-01-24                   NaN   \n",
       "49999     Astapor                       0  2014-01-18                   NaN   \n",
       "\n",
       "       avg_surge last_trip_date    phone  surge_pct  ultimate_black_user  \\\n",
       "6            1.0     2014-01-25  Android        0.0                False   \n",
       "9            1.0     2014-01-05  Android        0.0                False   \n",
       "12           1.0     2014-03-12   iPhone        0.0                False   \n",
       "14           1.0     2014-01-28  Android        0.0                False   \n",
       "15           1.0     2014-01-16  Android        0.0                 True   \n",
       "...          ...            ...      ...        ...                  ...   \n",
       "49984        1.0     2014-01-26  Android        0.0                False   \n",
       "49985        1.0     2014-02-25  Android        0.0                False   \n",
       "49989        1.0     2014-01-31   iPhone        0.0                False   \n",
       "49996        1.0     2014-01-25   iPhone        0.0                False   \n",
       "49999        1.0     2014-04-20  Android        0.0                False   \n",
       "\n",
       "       weekday_pct  avg_dist  avg_rating_by_driver  \n",
       "6            100.0      3.95                   4.0  \n",
       "9              0.0      2.37                   5.0  \n",
       "12           100.0     20.29                   5.0  \n",
       "14           100.0     26.01                   5.0  \n",
       "15           100.0     13.20                   5.0  \n",
       "...            ...       ...                   ...  \n",
       "49984          0.0      3.50                   5.0  \n",
       "49985        100.0      1.38                   5.0  \n",
       "49989        100.0      0.00                   5.0  \n",
       "49996          0.0      0.00                   4.0  \n",
       "49999          0.0      3.49                   5.0  \n",
       "\n",
       "[8122 rows x 12 columns]"
      ]
     },
     "execution_count": 26,
     "metadata": {},
     "output_type": "execute_result"
    }
   ],
   "source": [
    "df_r[df_r['avg_rating_of_driver'].isnull()]"
   ]
  },
  {
   "attachments": {},
   "cell_type": "markdown",
   "metadata": {},
   "source": [
    "looks like the average rating of the drivers has the most missing values of 8122, the decision becomes whether to drop the column, drop the rows or to backfill the rows with the average. The rows do have vital data beyond the rating, so backfilling seems like an option.  "
   ]
  },
  {
   "cell_type": "code",
   "execution_count": 27,
   "metadata": {},
   "outputs": [],
   "source": [
    "df_r['avg_rating_of_driver'].fillna(df_r['avg_rating_of_driver'].median(numeric_only=True), inplace=True)"
   ]
  },
  {
   "cell_type": "code",
   "execution_count": 28,
   "metadata": {},
   "outputs": [
    {
     "data": {
      "text/plain": [
       "0"
      ]
     },
     "execution_count": 28,
     "metadata": {},
     "output_type": "execute_result"
    }
   ],
   "source": [
    "df_r['avg_rating_of_driver'].isnull().sum()"
   ]
  },
  {
   "attachments": {},
   "cell_type": "markdown",
   "metadata": {},
   "source": [
    "so the null valuues are gone for the column with the most null values, the rest of the colums null values will be dropped"
   ]
  },
  {
   "cell_type": "code",
   "execution_count": 29,
   "metadata": {},
   "outputs": [],
   "source": [
    "df_r.dropna(inplace=True)"
   ]
  },
  {
   "cell_type": "code",
   "execution_count": 30,
   "metadata": {},
   "outputs": [
    {
     "name": "stdout",
     "output_type": "stream",
     "text": [
      "<class 'pandas.core.frame.DataFrame'>\n",
      "Int64Index: 49406 entries, 0 to 49999\n",
      "Data columns (total 12 columns):\n",
      " #   Column                  Non-Null Count  Dtype  \n",
      "---  ------                  --------------  -----  \n",
      " 0   city                    49406 non-null  object \n",
      " 1   trips_in_first_30_days  49406 non-null  int64  \n",
      " 2   signup_date             49406 non-null  object \n",
      " 3   avg_rating_of_driver    49406 non-null  float64\n",
      " 4   avg_surge               49406 non-null  float64\n",
      " 5   last_trip_date          49406 non-null  object \n",
      " 6   phone                   49406 non-null  object \n",
      " 7   surge_pct               49406 non-null  float64\n",
      " 8   ultimate_black_user     49406 non-null  bool   \n",
      " 9   weekday_pct             49406 non-null  float64\n",
      " 10  avg_dist                49406 non-null  float64\n",
      " 11  avg_rating_by_driver    49406 non-null  float64\n",
      "dtypes: bool(1), float64(6), int64(1), object(4)\n",
      "memory usage: 4.6+ MB\n"
     ]
    }
   ],
   "source": [
    "df_r.info()"
   ]
  },
  {
   "cell_type": "markdown",
   "metadata": {},
   "source": [
    "Now to change the signup_date and last_trip_date from strings to datetime objects"
   ]
  },
  {
   "cell_type": "markdown",
   "metadata": {},
   "source": []
  },
  {
   "cell_type": "code",
   "execution_count": 31,
   "metadata": {},
   "outputs": [],
   "source": [
    "df_r['signup_date']= pd.to_datetime(df_r['signup_date'])\n",
    "df_r['last_trip_date']= pd.to_datetime(df_r['last_trip_date'])"
   ]
  },
  {
   "cell_type": "code",
   "execution_count": 32,
   "metadata": {},
   "outputs": [
    {
     "name": "stdout",
     "output_type": "stream",
     "text": [
      "<class 'pandas.core.frame.DataFrame'>\n",
      "Int64Index: 49406 entries, 0 to 49999\n",
      "Data columns (total 12 columns):\n",
      " #   Column                  Non-Null Count  Dtype         \n",
      "---  ------                  --------------  -----         \n",
      " 0   city                    49406 non-null  object        \n",
      " 1   trips_in_first_30_days  49406 non-null  int64         \n",
      " 2   signup_date             49406 non-null  datetime64[ns]\n",
      " 3   avg_rating_of_driver    49406 non-null  float64       \n",
      " 4   avg_surge               49406 non-null  float64       \n",
      " 5   last_trip_date          49406 non-null  datetime64[ns]\n",
      " 6   phone                   49406 non-null  object        \n",
      " 7   surge_pct               49406 non-null  float64       \n",
      " 8   ultimate_black_user     49406 non-null  bool          \n",
      " 9   weekday_pct             49406 non-null  float64       \n",
      " 10  avg_dist                49406 non-null  float64       \n",
      " 11  avg_rating_by_driver    49406 non-null  float64       \n",
      "dtypes: bool(1), datetime64[ns](2), float64(6), int64(1), object(2)\n",
      "memory usage: 4.6+ MB\n"
     ]
    }
   ],
   "source": [
    "df_r.info()"
   ]
  },
  {
   "attachments": {},
   "cell_type": "markdown",
   "metadata": {},
   "source": [
    "since we are interested modeling whether or not a user is active for six months, we need to create another column\n",
    "their last trip date minue their singup date"
   ]
  },
  {
   "cell_type": "code",
   "execution_count": 33,
   "metadata": {},
   "outputs": [],
   "source": [
    "df_r['duration'] = df_r['last_trip_date'] - df_r['signup_date']"
   ]
  },
  {
   "cell_type": "code",
   "execution_count": 34,
   "metadata": {},
   "outputs": [
    {
     "name": "stdout",
     "output_type": "stream",
     "text": [
      "<class 'pandas.core.frame.DataFrame'>\n",
      "Int64Index: 49406 entries, 0 to 49999\n",
      "Data columns (total 13 columns):\n",
      " #   Column                  Non-Null Count  Dtype          \n",
      "---  ------                  --------------  -----          \n",
      " 0   city                    49406 non-null  object         \n",
      " 1   trips_in_first_30_days  49406 non-null  int64          \n",
      " 2   signup_date             49406 non-null  datetime64[ns] \n",
      " 3   avg_rating_of_driver    49406 non-null  float64        \n",
      " 4   avg_surge               49406 non-null  float64        \n",
      " 5   last_trip_date          49406 non-null  datetime64[ns] \n",
      " 6   phone                   49406 non-null  object         \n",
      " 7   surge_pct               49406 non-null  float64        \n",
      " 8   ultimate_black_user     49406 non-null  bool           \n",
      " 9   weekday_pct             49406 non-null  float64        \n",
      " 10  avg_dist                49406 non-null  float64        \n",
      " 11  avg_rating_by_driver    49406 non-null  float64        \n",
      " 12  duration                49406 non-null  timedelta64[ns]\n",
      "dtypes: bool(1), datetime64[ns](2), float64(6), int64(1), object(2), timedelta64[ns](1)\n",
      "memory usage: 4.9+ MB\n"
     ]
    }
   ],
   "source": [
    "df_r.info()"
   ]
  },
  {
   "cell_type": "code",
   "execution_count": 35,
   "metadata": {},
   "outputs": [
    {
     "data": {
      "text/html": [
       "<div>\n",
       "<style scoped>\n",
       "    .dataframe tbody tr th:only-of-type {\n",
       "        vertical-align: middle;\n",
       "    }\n",
       "\n",
       "    .dataframe tbody tr th {\n",
       "        vertical-align: top;\n",
       "    }\n",
       "\n",
       "    .dataframe thead th {\n",
       "        text-align: right;\n",
       "    }\n",
       "</style>\n",
       "<table border=\"1\" class=\"dataframe\">\n",
       "  <thead>\n",
       "    <tr style=\"text-align: right;\">\n",
       "      <th></th>\n",
       "      <th>city</th>\n",
       "      <th>trips_in_first_30_days</th>\n",
       "      <th>signup_date</th>\n",
       "      <th>avg_rating_of_driver</th>\n",
       "      <th>avg_surge</th>\n",
       "      <th>last_trip_date</th>\n",
       "      <th>phone</th>\n",
       "      <th>surge_pct</th>\n",
       "      <th>ultimate_black_user</th>\n",
       "      <th>weekday_pct</th>\n",
       "      <th>avg_dist</th>\n",
       "      <th>avg_rating_by_driver</th>\n",
       "      <th>duration</th>\n",
       "    </tr>\n",
       "  </thead>\n",
       "  <tbody>\n",
       "    <tr>\n",
       "      <th>1614</th>\n",
       "      <td>Winterfell</td>\n",
       "      <td>4</td>\n",
       "      <td>2014-01-01</td>\n",
       "      <td>4.9</td>\n",
       "      <td>1.02</td>\n",
       "      <td>2014-06-30</td>\n",
       "      <td>iPhone</td>\n",
       "      <td>5.3</td>\n",
       "      <td>False</td>\n",
       "      <td>72.0</td>\n",
       "      <td>1.65</td>\n",
       "      <td>4.8</td>\n",
       "      <td>180 days</td>\n",
       "    </tr>\n",
       "    <tr>\n",
       "      <th>1636</th>\n",
       "      <td>Winterfell</td>\n",
       "      <td>2</td>\n",
       "      <td>2014-01-01</td>\n",
       "      <td>5.0</td>\n",
       "      <td>1.09</td>\n",
       "      <td>2014-07-01</td>\n",
       "      <td>Android</td>\n",
       "      <td>7.1</td>\n",
       "      <td>False</td>\n",
       "      <td>71.4</td>\n",
       "      <td>3.14</td>\n",
       "      <td>4.7</td>\n",
       "      <td>181 days</td>\n",
       "    </tr>\n",
       "    <tr>\n",
       "      <th>1745</th>\n",
       "      <td>Winterfell</td>\n",
       "      <td>3</td>\n",
       "      <td>2014-01-01</td>\n",
       "      <td>4.8</td>\n",
       "      <td>1.00</td>\n",
       "      <td>2014-06-30</td>\n",
       "      <td>iPhone</td>\n",
       "      <td>0.0</td>\n",
       "      <td>True</td>\n",
       "      <td>100.0</td>\n",
       "      <td>4.77</td>\n",
       "      <td>5.0</td>\n",
       "      <td>180 days</td>\n",
       "    </tr>\n",
       "    <tr>\n",
       "      <th>2226</th>\n",
       "      <td>King's Landing</td>\n",
       "      <td>4</td>\n",
       "      <td>2014-01-01</td>\n",
       "      <td>5.0</td>\n",
       "      <td>1.12</td>\n",
       "      <td>2014-06-30</td>\n",
       "      <td>iPhone</td>\n",
       "      <td>20.5</td>\n",
       "      <td>False</td>\n",
       "      <td>51.3</td>\n",
       "      <td>1.89</td>\n",
       "      <td>4.8</td>\n",
       "      <td>180 days</td>\n",
       "    </tr>\n",
       "    <tr>\n",
       "      <th>2902</th>\n",
       "      <td>Winterfell</td>\n",
       "      <td>1</td>\n",
       "      <td>2014-01-01</td>\n",
       "      <td>5.0</td>\n",
       "      <td>1.10</td>\n",
       "      <td>2014-06-30</td>\n",
       "      <td>iPhone</td>\n",
       "      <td>17.9</td>\n",
       "      <td>True</td>\n",
       "      <td>82.1</td>\n",
       "      <td>2.64</td>\n",
       "      <td>4.7</td>\n",
       "      <td>180 days</td>\n",
       "    </tr>\n",
       "    <tr>\n",
       "      <th>...</th>\n",
       "      <td>...</td>\n",
       "      <td>...</td>\n",
       "      <td>...</td>\n",
       "      <td>...</td>\n",
       "      <td>...</td>\n",
       "      <td>...</td>\n",
       "      <td>...</td>\n",
       "      <td>...</td>\n",
       "      <td>...</td>\n",
       "      <td>...</td>\n",
       "      <td>...</td>\n",
       "      <td>...</td>\n",
       "      <td>...</td>\n",
       "    </tr>\n",
       "    <tr>\n",
       "      <th>47127</th>\n",
       "      <td>Winterfell</td>\n",
       "      <td>5</td>\n",
       "      <td>2014-01-01</td>\n",
       "      <td>5.0</td>\n",
       "      <td>1.02</td>\n",
       "      <td>2014-07-01</td>\n",
       "      <td>iPhone</td>\n",
       "      <td>2.9</td>\n",
       "      <td>False</td>\n",
       "      <td>55.9</td>\n",
       "      <td>5.18</td>\n",
       "      <td>4.7</td>\n",
       "      <td>181 days</td>\n",
       "    </tr>\n",
       "    <tr>\n",
       "      <th>47154</th>\n",
       "      <td>Winterfell</td>\n",
       "      <td>0</td>\n",
       "      <td>2014-01-01</td>\n",
       "      <td>4.8</td>\n",
       "      <td>1.09</td>\n",
       "      <td>2014-06-30</td>\n",
       "      <td>iPhone</td>\n",
       "      <td>8.7</td>\n",
       "      <td>False</td>\n",
       "      <td>47.8</td>\n",
       "      <td>3.10</td>\n",
       "      <td>4.3</td>\n",
       "      <td>180 days</td>\n",
       "    </tr>\n",
       "    <tr>\n",
       "      <th>48183</th>\n",
       "      <td>Winterfell</td>\n",
       "      <td>9</td>\n",
       "      <td>2014-01-01</td>\n",
       "      <td>4.9</td>\n",
       "      <td>1.03</td>\n",
       "      <td>2014-06-30</td>\n",
       "      <td>iPhone</td>\n",
       "      <td>2.4</td>\n",
       "      <td>False</td>\n",
       "      <td>75.6</td>\n",
       "      <td>5.31</td>\n",
       "      <td>4.7</td>\n",
       "      <td>180 days</td>\n",
       "    </tr>\n",
       "    <tr>\n",
       "      <th>49034</th>\n",
       "      <td>Winterfell</td>\n",
       "      <td>2</td>\n",
       "      <td>2014-01-01</td>\n",
       "      <td>4.9</td>\n",
       "      <td>1.00</td>\n",
       "      <td>2014-06-30</td>\n",
       "      <td>iPhone</td>\n",
       "      <td>0.0</td>\n",
       "      <td>False</td>\n",
       "      <td>100.0</td>\n",
       "      <td>14.91</td>\n",
       "      <td>5.0</td>\n",
       "      <td>180 days</td>\n",
       "    </tr>\n",
       "    <tr>\n",
       "      <th>49160</th>\n",
       "      <td>Winterfell</td>\n",
       "      <td>6</td>\n",
       "      <td>2014-01-01</td>\n",
       "      <td>4.1</td>\n",
       "      <td>1.01</td>\n",
       "      <td>2014-06-30</td>\n",
       "      <td>iPhone</td>\n",
       "      <td>2.0</td>\n",
       "      <td>True</td>\n",
       "      <td>82.4</td>\n",
       "      <td>3.69</td>\n",
       "      <td>4.7</td>\n",
       "      <td>180 days</td>\n",
       "    </tr>\n",
       "  </tbody>\n",
       "</table>\n",
       "<p>84 rows × 13 columns</p>\n",
       "</div>"
      ],
      "text/plain": [
       "                 city  trips_in_first_30_days signup_date  \\\n",
       "1614       Winterfell                       4  2014-01-01   \n",
       "1636       Winterfell                       2  2014-01-01   \n",
       "1745       Winterfell                       3  2014-01-01   \n",
       "2226   King's Landing                       4  2014-01-01   \n",
       "2902       Winterfell                       1  2014-01-01   \n",
       "...               ...                     ...         ...   \n",
       "47127      Winterfell                       5  2014-01-01   \n",
       "47154      Winterfell                       0  2014-01-01   \n",
       "48183      Winterfell                       9  2014-01-01   \n",
       "49034      Winterfell                       2  2014-01-01   \n",
       "49160      Winterfell                       6  2014-01-01   \n",
       "\n",
       "       avg_rating_of_driver  avg_surge last_trip_date    phone  surge_pct  \\\n",
       "1614                    4.9       1.02     2014-06-30   iPhone        5.3   \n",
       "1636                    5.0       1.09     2014-07-01  Android        7.1   \n",
       "1745                    4.8       1.00     2014-06-30   iPhone        0.0   \n",
       "2226                    5.0       1.12     2014-06-30   iPhone       20.5   \n",
       "2902                    5.0       1.10     2014-06-30   iPhone       17.9   \n",
       "...                     ...        ...            ...      ...        ...   \n",
       "47127                   5.0       1.02     2014-07-01   iPhone        2.9   \n",
       "47154                   4.8       1.09     2014-06-30   iPhone        8.7   \n",
       "48183                   4.9       1.03     2014-06-30   iPhone        2.4   \n",
       "49034                   4.9       1.00     2014-06-30   iPhone        0.0   \n",
       "49160                   4.1       1.01     2014-06-30   iPhone        2.0   \n",
       "\n",
       "       ultimate_black_user  weekday_pct  avg_dist  avg_rating_by_driver  \\\n",
       "1614                 False         72.0      1.65                   4.8   \n",
       "1636                 False         71.4      3.14                   4.7   \n",
       "1745                  True        100.0      4.77                   5.0   \n",
       "2226                 False         51.3      1.89                   4.8   \n",
       "2902                  True         82.1      2.64                   4.7   \n",
       "...                    ...          ...       ...                   ...   \n",
       "47127                False         55.9      5.18                   4.7   \n",
       "47154                False         47.8      3.10                   4.3   \n",
       "48183                False         75.6      5.31                   4.7   \n",
       "49034                False        100.0     14.91                   5.0   \n",
       "49160                 True         82.4      3.69                   4.7   \n",
       "\n",
       "      duration  \n",
       "1614  180 days  \n",
       "1636  181 days  \n",
       "1745  180 days  \n",
       "2226  180 days  \n",
       "2902  180 days  \n",
       "...        ...  \n",
       "47127 181 days  \n",
       "47154 180 days  \n",
       "48183 180 days  \n",
       "49034 180 days  \n",
       "49160 180 days  \n",
       "\n",
       "[84 rows x 13 columns]"
      ]
     },
     "execution_count": 35,
     "metadata": {},
     "output_type": "execute_result"
    }
   ],
   "source": [
    "df_r[df_r['duration'] >= '180 days']"
   ]
  },
  {
   "cell_type": "code",
   "execution_count": 36,
   "metadata": {},
   "outputs": [],
   "source": [
    "# create a function that sorts the duration by those customer that are >= 150 days(around 5months)\n",
    "# sice it is more frequent than 6 months(180 days) according to the histogram.\n",
    "\n",
    "def retention(x):\n",
    "    if x >= 150:\n",
    "        x = 1\n",
    "    else:\n",
    "        x = 0\n",
    "    return x \n"
   ]
  },
  {
   "cell_type": "code",
   "execution_count": 37,
   "metadata": {},
   "outputs": [],
   "source": [
    "# create a copy of dataframe before doing more data wrangling for machine learning\n",
    "\n",
    "df = df_r.copy()"
   ]
  },
  {
   "attachments": {},
   "cell_type": "markdown",
   "metadata": {},
   "source": [
    "### Recode duration into 6months or not "
   ]
  },
  {
   "cell_type": "code",
   "execution_count": 38,
   "metadata": {},
   "outputs": [],
   "source": [
    "df['duration'] = df['duration'].apply(lambda x: x.days)"
   ]
  },
  {
   "cell_type": "code",
   "execution_count": 39,
   "metadata": {},
   "outputs": [
    {
     "data": {
      "text/plain": [
       "0    143\n",
       "1     96\n",
       "2      1\n",
       "3    170\n",
       "4     47\n",
       "Name: duration, dtype: int64"
      ]
     },
     "execution_count": 39,
     "metadata": {},
     "output_type": "execute_result"
    }
   ],
   "source": [
    "df['duration'].head()"
   ]
  },
  {
   "cell_type": "code",
   "execution_count": 40,
   "metadata": {},
   "outputs": [
    {
     "data": {
      "text/plain": [
       "<AxesSubplot: >"
      ]
     },
     "execution_count": 40,
     "metadata": {},
     "output_type": "execute_result"
    },
    {
     "data": {
      "image/png": "[encoded data removed]",
      "text/plain": [
       "<Figure size 1000x300 with 1 Axes>"
      ]
     },
     "metadata": {},
     "output_type": "display_data"
    }
   ],
   "source": [
    "df['duration'].hist()"
   ]
  },
  {
   "cell_type": "code",
   "execution_count": 41,
   "metadata": {},
   "outputs": [
    {
     "data": {
      "text/plain": [
       "numpy.int64"
      ]
     },
     "execution_count": 41,
     "metadata": {},
     "output_type": "execute_result"
    }
   ],
   "source": [
    "type(df['duration'][0])"
   ]
  },
  {
   "attachments": {},
   "cell_type": "markdown",
   "metadata": {},
   "source": [
    "the timedelta data type was converted successfully"
   ]
  },
  {
   "cell_type": "code",
   "execution_count": 42,
   "metadata": {},
   "outputs": [],
   "source": [
    "df['duration_coded'] = df['duration'].apply(lambda x: retention(x))"
   ]
  },
  {
   "cell_type": "code",
   "execution_count": 43,
   "metadata": {},
   "outputs": [
    {
     "data": {
      "text/html": [
       "<div>\n",
       "<style scoped>\n",
       "    .dataframe tbody tr th:only-of-type {\n",
       "        vertical-align: middle;\n",
       "    }\n",
       "\n",
       "    .dataframe tbody tr th {\n",
       "        vertical-align: top;\n",
       "    }\n",
       "\n",
       "    .dataframe thead th {\n",
       "        text-align: right;\n",
       "    }\n",
       "</style>\n",
       "<table border=\"1\" class=\"dataframe\">\n",
       "  <thead>\n",
       "    <tr style=\"text-align: right;\">\n",
       "      <th></th>\n",
       "      <th>city</th>\n",
       "      <th>trips_in_first_30_days</th>\n",
       "      <th>signup_date</th>\n",
       "      <th>avg_rating_of_driver</th>\n",
       "      <th>avg_surge</th>\n",
       "      <th>last_trip_date</th>\n",
       "      <th>phone</th>\n",
       "      <th>surge_pct</th>\n",
       "      <th>ultimate_black_user</th>\n",
       "      <th>weekday_pct</th>\n",
       "      <th>avg_dist</th>\n",
       "      <th>avg_rating_by_driver</th>\n",
       "      <th>duration</th>\n",
       "      <th>duration_coded</th>\n",
       "    </tr>\n",
       "  </thead>\n",
       "  <tbody>\n",
       "    <tr>\n",
       "      <th>18797</th>\n",
       "      <td>Astapor</td>\n",
       "      <td>2</td>\n",
       "      <td>2014-01-15</td>\n",
       "      <td>4.4</td>\n",
       "      <td>1.38</td>\n",
       "      <td>2014-05-22</td>\n",
       "      <td>Android</td>\n",
       "      <td>33.3</td>\n",
       "      <td>False</td>\n",
       "      <td>66.7</td>\n",
       "      <td>3.69</td>\n",
       "      <td>5.0</td>\n",
       "      <td>127</td>\n",
       "      <td>0</td>\n",
       "    </tr>\n",
       "    <tr>\n",
       "      <th>46333</th>\n",
       "      <td>Winterfell</td>\n",
       "      <td>2</td>\n",
       "      <td>2014-01-21</td>\n",
       "      <td>5.0</td>\n",
       "      <td>1.13</td>\n",
       "      <td>2014-02-15</td>\n",
       "      <td>Android</td>\n",
       "      <td>50.0</td>\n",
       "      <td>False</td>\n",
       "      <td>50.0</td>\n",
       "      <td>4.42</td>\n",
       "      <td>5.0</td>\n",
       "      <td>25</td>\n",
       "      <td>0</td>\n",
       "    </tr>\n",
       "    <tr>\n",
       "      <th>11271</th>\n",
       "      <td>King's Landing</td>\n",
       "      <td>0</td>\n",
       "      <td>2014-01-24</td>\n",
       "      <td>4.9</td>\n",
       "      <td>1.00</td>\n",
       "      <td>2014-06-19</td>\n",
       "      <td>iPhone</td>\n",
       "      <td>0.0</td>\n",
       "      <td>False</td>\n",
       "      <td>100.0</td>\n",
       "      <td>9.97</td>\n",
       "      <td>5.0</td>\n",
       "      <td>146</td>\n",
       "      <td>0</td>\n",
       "    </tr>\n",
       "    <tr>\n",
       "      <th>47960</th>\n",
       "      <td>Astapor</td>\n",
       "      <td>3</td>\n",
       "      <td>2014-01-03</td>\n",
       "      <td>5.0</td>\n",
       "      <td>1.00</td>\n",
       "      <td>2014-03-20</td>\n",
       "      <td>Android</td>\n",
       "      <td>0.0</td>\n",
       "      <td>True</td>\n",
       "      <td>90.9</td>\n",
       "      <td>1.71</td>\n",
       "      <td>4.7</td>\n",
       "      <td>76</td>\n",
       "      <td>0</td>\n",
       "    </tr>\n",
       "    <tr>\n",
       "      <th>7699</th>\n",
       "      <td>Winterfell</td>\n",
       "      <td>2</td>\n",
       "      <td>2014-01-09</td>\n",
       "      <td>3.0</td>\n",
       "      <td>1.00</td>\n",
       "      <td>2014-05-21</td>\n",
       "      <td>iPhone</td>\n",
       "      <td>0.0</td>\n",
       "      <td>False</td>\n",
       "      <td>100.0</td>\n",
       "      <td>8.40</td>\n",
       "      <td>4.1</td>\n",
       "      <td>132</td>\n",
       "      <td>0</td>\n",
       "    </tr>\n",
       "    <tr>\n",
       "      <th>32404</th>\n",
       "      <td>Astapor</td>\n",
       "      <td>4</td>\n",
       "      <td>2014-01-19</td>\n",
       "      <td>4.9</td>\n",
       "      <td>1.00</td>\n",
       "      <td>2014-06-29</td>\n",
       "      <td>iPhone</td>\n",
       "      <td>0.0</td>\n",
       "      <td>True</td>\n",
       "      <td>54.5</td>\n",
       "      <td>5.13</td>\n",
       "      <td>4.8</td>\n",
       "      <td>161</td>\n",
       "      <td>1</td>\n",
       "    </tr>\n",
       "    <tr>\n",
       "      <th>3105</th>\n",
       "      <td>Winterfell</td>\n",
       "      <td>1</td>\n",
       "      <td>2014-01-19</td>\n",
       "      <td>4.0</td>\n",
       "      <td>2.50</td>\n",
       "      <td>2014-01-20</td>\n",
       "      <td>Android</td>\n",
       "      <td>100.0</td>\n",
       "      <td>False</td>\n",
       "      <td>0.0</td>\n",
       "      <td>1.88</td>\n",
       "      <td>5.0</td>\n",
       "      <td>1</td>\n",
       "      <td>0</td>\n",
       "    </tr>\n",
       "    <tr>\n",
       "      <th>34328</th>\n",
       "      <td>Winterfell</td>\n",
       "      <td>2</td>\n",
       "      <td>2014-01-05</td>\n",
       "      <td>4.3</td>\n",
       "      <td>1.00</td>\n",
       "      <td>2014-06-20</td>\n",
       "      <td>iPhone</td>\n",
       "      <td>0.0</td>\n",
       "      <td>False</td>\n",
       "      <td>50.0</td>\n",
       "      <td>2.32</td>\n",
       "      <td>5.0</td>\n",
       "      <td>166</td>\n",
       "      <td>1</td>\n",
       "    </tr>\n",
       "    <tr>\n",
       "      <th>32505</th>\n",
       "      <td>Winterfell</td>\n",
       "      <td>6</td>\n",
       "      <td>2014-01-25</td>\n",
       "      <td>4.5</td>\n",
       "      <td>1.00</td>\n",
       "      <td>2014-06-02</td>\n",
       "      <td>iPhone</td>\n",
       "      <td>0.0</td>\n",
       "      <td>True</td>\n",
       "      <td>62.5</td>\n",
       "      <td>2.30</td>\n",
       "      <td>4.5</td>\n",
       "      <td>128</td>\n",
       "      <td>0</td>\n",
       "    </tr>\n",
       "    <tr>\n",
       "      <th>17694</th>\n",
       "      <td>Astapor</td>\n",
       "      <td>0</td>\n",
       "      <td>2014-01-10</td>\n",
       "      <td>5.0</td>\n",
       "      <td>1.00</td>\n",
       "      <td>2014-04-20</td>\n",
       "      <td>iPhone</td>\n",
       "      <td>0.0</td>\n",
       "      <td>False</td>\n",
       "      <td>0.0</td>\n",
       "      <td>9.60</td>\n",
       "      <td>4.0</td>\n",
       "      <td>100</td>\n",
       "      <td>0</td>\n",
       "    </tr>\n",
       "    <tr>\n",
       "      <th>45161</th>\n",
       "      <td>Winterfell</td>\n",
       "      <td>0</td>\n",
       "      <td>2014-01-20</td>\n",
       "      <td>3.8</td>\n",
       "      <td>1.05</td>\n",
       "      <td>2014-06-19</td>\n",
       "      <td>iPhone</td>\n",
       "      <td>13.3</td>\n",
       "      <td>True</td>\n",
       "      <td>60.0</td>\n",
       "      <td>4.21</td>\n",
       "      <td>5.0</td>\n",
       "      <td>150</td>\n",
       "      <td>1</td>\n",
       "    </tr>\n",
       "    <tr>\n",
       "      <th>47112</th>\n",
       "      <td>Winterfell</td>\n",
       "      <td>1</td>\n",
       "      <td>2014-01-09</td>\n",
       "      <td>4.9</td>\n",
       "      <td>1.00</td>\n",
       "      <td>2014-03-26</td>\n",
       "      <td>iPhone</td>\n",
       "      <td>0.0</td>\n",
       "      <td>False</td>\n",
       "      <td>100.0</td>\n",
       "      <td>1.91</td>\n",
       "      <td>5.0</td>\n",
       "      <td>76</td>\n",
       "      <td>0</td>\n",
       "    </tr>\n",
       "    <tr>\n",
       "      <th>9521</th>\n",
       "      <td>King's Landing</td>\n",
       "      <td>0</td>\n",
       "      <td>2014-01-19</td>\n",
       "      <td>5.0</td>\n",
       "      <td>1.60</td>\n",
       "      <td>2014-06-28</td>\n",
       "      <td>iPhone</td>\n",
       "      <td>40.0</td>\n",
       "      <td>False</td>\n",
       "      <td>60.0</td>\n",
       "      <td>2.36</td>\n",
       "      <td>5.0</td>\n",
       "      <td>160</td>\n",
       "      <td>1</td>\n",
       "    </tr>\n",
       "    <tr>\n",
       "      <th>11161</th>\n",
       "      <td>King's Landing</td>\n",
       "      <td>0</td>\n",
       "      <td>2014-01-23</td>\n",
       "      <td>4.5</td>\n",
       "      <td>1.00</td>\n",
       "      <td>2014-06-22</td>\n",
       "      <td>iPhone</td>\n",
       "      <td>0.0</td>\n",
       "      <td>True</td>\n",
       "      <td>66.7</td>\n",
       "      <td>4.39</td>\n",
       "      <td>4.8</td>\n",
       "      <td>150</td>\n",
       "      <td>1</td>\n",
       "    </tr>\n",
       "    <tr>\n",
       "      <th>49104</th>\n",
       "      <td>Astapor</td>\n",
       "      <td>0</td>\n",
       "      <td>2014-01-17</td>\n",
       "      <td>5.0</td>\n",
       "      <td>4.00</td>\n",
       "      <td>2014-04-06</td>\n",
       "      <td>iPhone</td>\n",
       "      <td>100.0</td>\n",
       "      <td>False</td>\n",
       "      <td>0.0</td>\n",
       "      <td>1.56</td>\n",
       "      <td>5.0</td>\n",
       "      <td>79</td>\n",
       "      <td>0</td>\n",
       "    </tr>\n",
       "    <tr>\n",
       "      <th>7449</th>\n",
       "      <td>Astapor</td>\n",
       "      <td>1</td>\n",
       "      <td>2014-01-25</td>\n",
       "      <td>4.9</td>\n",
       "      <td>1.00</td>\n",
       "      <td>2014-01-26</td>\n",
       "      <td>Android</td>\n",
       "      <td>0.0</td>\n",
       "      <td>False</td>\n",
       "      <td>0.0</td>\n",
       "      <td>3.04</td>\n",
       "      <td>5.0</td>\n",
       "      <td>1</td>\n",
       "      <td>0</td>\n",
       "    </tr>\n",
       "    <tr>\n",
       "      <th>10528</th>\n",
       "      <td>Winterfell</td>\n",
       "      <td>0</td>\n",
       "      <td>2014-01-10</td>\n",
       "      <td>4.9</td>\n",
       "      <td>1.00</td>\n",
       "      <td>2014-05-04</td>\n",
       "      <td>Android</td>\n",
       "      <td>0.0</td>\n",
       "      <td>False</td>\n",
       "      <td>33.3</td>\n",
       "      <td>0.80</td>\n",
       "      <td>4.7</td>\n",
       "      <td>114</td>\n",
       "      <td>0</td>\n",
       "    </tr>\n",
       "    <tr>\n",
       "      <th>1629</th>\n",
       "      <td>King's Landing</td>\n",
       "      <td>5</td>\n",
       "      <td>2014-01-18</td>\n",
       "      <td>5.0</td>\n",
       "      <td>1.10</td>\n",
       "      <td>2014-06-28</td>\n",
       "      <td>iPhone</td>\n",
       "      <td>18.5</td>\n",
       "      <td>False</td>\n",
       "      <td>66.7</td>\n",
       "      <td>1.71</td>\n",
       "      <td>4.8</td>\n",
       "      <td>161</td>\n",
       "      <td>1</td>\n",
       "    </tr>\n",
       "    <tr>\n",
       "      <th>47755</th>\n",
       "      <td>Winterfell</td>\n",
       "      <td>0</td>\n",
       "      <td>2014-01-23</td>\n",
       "      <td>5.0</td>\n",
       "      <td>1.00</td>\n",
       "      <td>2014-05-19</td>\n",
       "      <td>Android</td>\n",
       "      <td>0.0</td>\n",
       "      <td>True</td>\n",
       "      <td>0.0</td>\n",
       "      <td>1.15</td>\n",
       "      <td>4.0</td>\n",
       "      <td>116</td>\n",
       "      <td>0</td>\n",
       "    </tr>\n",
       "    <tr>\n",
       "      <th>15589</th>\n",
       "      <td>Winterfell</td>\n",
       "      <td>3</td>\n",
       "      <td>2014-01-12</td>\n",
       "      <td>4.0</td>\n",
       "      <td>1.02</td>\n",
       "      <td>2014-06-26</td>\n",
       "      <td>Android</td>\n",
       "      <td>7.7</td>\n",
       "      <td>True</td>\n",
       "      <td>46.2</td>\n",
       "      <td>3.98</td>\n",
       "      <td>4.9</td>\n",
       "      <td>165</td>\n",
       "      <td>1</td>\n",
       "    </tr>\n",
       "  </tbody>\n",
       "</table>\n",
       "</div>"
      ],
      "text/plain": [
       "                 city  trips_in_first_30_days signup_date  \\\n",
       "18797         Astapor                       2  2014-01-15   \n",
       "46333      Winterfell                       2  2014-01-21   \n",
       "11271  King's Landing                       0  2014-01-24   \n",
       "47960         Astapor                       3  2014-01-03   \n",
       "7699       Winterfell                       2  2014-01-09   \n",
       "32404         Astapor                       4  2014-01-19   \n",
       "3105       Winterfell                       1  2014-01-19   \n",
       "34328      Winterfell                       2  2014-01-05   \n",
       "32505      Winterfell                       6  2014-01-25   \n",
       "17694         Astapor                       0  2014-01-10   \n",
       "45161      Winterfell                       0  2014-01-20   \n",
       "47112      Winterfell                       1  2014-01-09   \n",
       "9521   King's Landing                       0  2014-01-19   \n",
       "11161  King's Landing                       0  2014-01-23   \n",
       "49104         Astapor                       0  2014-01-17   \n",
       "7449          Astapor                       1  2014-01-25   \n",
       "10528      Winterfell                       0  2014-01-10   \n",
       "1629   King's Landing                       5  2014-01-18   \n",
       "47755      Winterfell                       0  2014-01-23   \n",
       "15589      Winterfell                       3  2014-01-12   \n",
       "\n",
       "       avg_rating_of_driver  avg_surge last_trip_date    phone  surge_pct  \\\n",
       "18797                   4.4       1.38     2014-05-22  Android       33.3   \n",
       "46333                   5.0       1.13     2014-02-15  Android       50.0   \n",
       "11271                   4.9       1.00     2014-06-19   iPhone        0.0   \n",
       "47960                   5.0       1.00     2014-03-20  Android        0.0   \n",
       "7699                    3.0       1.00     2014-05-21   iPhone        0.0   \n",
       "32404                   4.9       1.00     2014-06-29   iPhone        0.0   \n",
       "3105                    4.0       2.50     2014-01-20  Android      100.0   \n",
       "34328                   4.3       1.00     2014-06-20   iPhone        0.0   \n",
       "32505                   4.5       1.00     2014-06-02   iPhone        0.0   \n",
       "17694                   5.0       1.00     2014-04-20   iPhone        0.0   \n",
       "45161                   3.8       1.05     2014-06-19   iPhone       13.3   \n",
       "47112                   4.9       1.00     2014-03-26   iPhone        0.0   \n",
       "9521                    5.0       1.60     2014-06-28   iPhone       40.0   \n",
       "11161                   4.5       1.00     2014-06-22   iPhone        0.0   \n",
       "49104                   5.0       4.00     2014-04-06   iPhone      100.0   \n",
       "7449                    4.9       1.00     2014-01-26  Android        0.0   \n",
       "10528                   4.9       1.00     2014-05-04  Android        0.0   \n",
       "1629                    5.0       1.10     2014-06-28   iPhone       18.5   \n",
       "47755                   5.0       1.00     2014-05-19  Android        0.0   \n",
       "15589                   4.0       1.02     2014-06-26  Android        7.7   \n",
       "\n",
       "       ultimate_black_user  weekday_pct  avg_dist  avg_rating_by_driver  \\\n",
       "18797                False         66.7      3.69                   5.0   \n",
       "46333                False         50.0      4.42                   5.0   \n",
       "11271                False        100.0      9.97                   5.0   \n",
       "47960                 True         90.9      1.71                   4.7   \n",
       "7699                 False        100.0      8.40                   4.1   \n",
       "32404                 True         54.5      5.13                   4.8   \n",
       "3105                 False          0.0      1.88                   5.0   \n",
       "34328                False         50.0      2.32                   5.0   \n",
       "32505                 True         62.5      2.30                   4.5   \n",
       "17694                False          0.0      9.60                   4.0   \n",
       "45161                 True         60.0      4.21                   5.0   \n",
       "47112                False        100.0      1.91                   5.0   \n",
       "9521                 False         60.0      2.36                   5.0   \n",
       "11161                 True         66.7      4.39                   4.8   \n",
       "49104                False          0.0      1.56                   5.0   \n",
       "7449                 False          0.0      3.04                   5.0   \n",
       "10528                False         33.3      0.80                   4.7   \n",
       "1629                 False         66.7      1.71                   4.8   \n",
       "47755                 True          0.0      1.15                   4.0   \n",
       "15589                 True         46.2      3.98                   4.9   \n",
       "\n",
       "       duration  duration_coded  \n",
       "18797       127               0  \n",
       "46333        25               0  \n",
       "11271       146               0  \n",
       "47960        76               0  \n",
       "7699        132               0  \n",
       "32404       161               1  \n",
       "3105          1               0  \n",
       "34328       166               1  \n",
       "32505       128               0  \n",
       "17694       100               0  \n",
       "45161       150               1  \n",
       "47112        76               0  \n",
       "9521        160               1  \n",
       "11161       150               1  \n",
       "49104        79               0  \n",
       "7449          1               0  \n",
       "10528       114               0  \n",
       "1629        161               1  \n",
       "47755       116               0  \n",
       "15589       165               1  "
      ]
     },
     "execution_count": 43,
     "metadata": {},
     "output_type": "execute_result"
    }
   ],
   "source": [
    "df.sample(20)"
   ]
  },
  {
   "cell_type": "code",
   "execution_count": 44,
   "metadata": {},
   "outputs": [
    {
     "data": {
      "text/plain": [
       "0    36799\n",
       "1    12607\n",
       "Name: duration_coded, dtype: int64"
      ]
     },
     "execution_count": 44,
     "metadata": {},
     "output_type": "execute_result"
    }
   ],
   "source": [
    "df['duration_coded'].value_counts()"
   ]
  },
  {
   "attachments": {},
   "cell_type": "markdown",
   "metadata": {},
   "source": [
    "looks like the dataset is very unbalanced this will be addressed latter in the modeling section, there are many options(such as sampling) \n",
    "and this will be explored in the following sections"
   ]
  },
  {
   "cell_type": "markdown",
   "metadata": {},
   "source": []
  },
  {
   "attachments": {},
   "cell_type": "markdown",
   "metadata": {},
   "source": [
    "## Drop singup_date and last_trip_date "
   ]
  },
  {
   "cell_type": "code",
   "execution_count": 45,
   "metadata": {},
   "outputs": [],
   "source": [
    "df.drop(['signup_date', 'last_trip_date'], axis = 1, inplace=True)"
   ]
  },
  {
   "cell_type": "code",
   "execution_count": 46,
   "metadata": {},
   "outputs": [
    {
     "data": {
      "text/html": [
       "<div>\n",
       "<style scoped>\n",
       "    .dataframe tbody tr th:only-of-type {\n",
       "        vertical-align: middle;\n",
       "    }\n",
       "\n",
       "    .dataframe tbody tr th {\n",
       "        vertical-align: top;\n",
       "    }\n",
       "\n",
       "    .dataframe thead th {\n",
       "        text-align: right;\n",
       "    }\n",
       "</style>\n",
       "<table border=\"1\" class=\"dataframe\">\n",
       "  <thead>\n",
       "    <tr style=\"text-align: right;\">\n",
       "      <th></th>\n",
       "      <th>city</th>\n",
       "      <th>trips_in_first_30_days</th>\n",
       "      <th>avg_rating_of_driver</th>\n",
       "      <th>avg_surge</th>\n",
       "      <th>phone</th>\n",
       "      <th>surge_pct</th>\n",
       "      <th>ultimate_black_user</th>\n",
       "      <th>weekday_pct</th>\n",
       "      <th>avg_dist</th>\n",
       "      <th>avg_rating_by_driver</th>\n",
       "      <th>duration</th>\n",
       "      <th>duration_coded</th>\n",
       "    </tr>\n",
       "  </thead>\n",
       "  <tbody>\n",
       "    <tr>\n",
       "      <th>15017</th>\n",
       "      <td>Astapor</td>\n",
       "      <td>3</td>\n",
       "      <td>5.0</td>\n",
       "      <td>1.08</td>\n",
       "      <td>iPhone</td>\n",
       "      <td>16.7</td>\n",
       "      <td>True</td>\n",
       "      <td>0.0</td>\n",
       "      <td>3.16</td>\n",
       "      <td>4.7</td>\n",
       "      <td>36</td>\n",
       "      <td>0</td>\n",
       "    </tr>\n",
       "    <tr>\n",
       "      <th>41022</th>\n",
       "      <td>King's Landing</td>\n",
       "      <td>0</td>\n",
       "      <td>4.7</td>\n",
       "      <td>1.00</td>\n",
       "      <td>iPhone</td>\n",
       "      <td>0.0</td>\n",
       "      <td>False</td>\n",
       "      <td>60.0</td>\n",
       "      <td>3.14</td>\n",
       "      <td>5.0</td>\n",
       "      <td>166</td>\n",
       "      <td>1</td>\n",
       "    </tr>\n",
       "    <tr>\n",
       "      <th>7528</th>\n",
       "      <td>King's Landing</td>\n",
       "      <td>1</td>\n",
       "      <td>5.0</td>\n",
       "      <td>1.00</td>\n",
       "      <td>iPhone</td>\n",
       "      <td>0.0</td>\n",
       "      <td>True</td>\n",
       "      <td>66.7</td>\n",
       "      <td>11.93</td>\n",
       "      <td>5.0</td>\n",
       "      <td>158</td>\n",
       "      <td>1</td>\n",
       "    </tr>\n",
       "    <tr>\n",
       "      <th>12648</th>\n",
       "      <td>Astapor</td>\n",
       "      <td>0</td>\n",
       "      <td>4.9</td>\n",
       "      <td>1.00</td>\n",
       "      <td>Android</td>\n",
       "      <td>0.0</td>\n",
       "      <td>False</td>\n",
       "      <td>100.0</td>\n",
       "      <td>4.86</td>\n",
       "      <td>5.0</td>\n",
       "      <td>92</td>\n",
       "      <td>0</td>\n",
       "    </tr>\n",
       "    <tr>\n",
       "      <th>48265</th>\n",
       "      <td>Winterfell</td>\n",
       "      <td>1</td>\n",
       "      <td>5.0</td>\n",
       "      <td>1.00</td>\n",
       "      <td>Android</td>\n",
       "      <td>0.0</td>\n",
       "      <td>False</td>\n",
       "      <td>33.3</td>\n",
       "      <td>1.71</td>\n",
       "      <td>4.3</td>\n",
       "      <td>56</td>\n",
       "      <td>0</td>\n",
       "    </tr>\n",
       "  </tbody>\n",
       "</table>\n",
       "</div>"
      ],
      "text/plain": [
       "                 city  trips_in_first_30_days  avg_rating_of_driver  \\\n",
       "15017         Astapor                       3                   5.0   \n",
       "41022  King's Landing                       0                   4.7   \n",
       "7528   King's Landing                       1                   5.0   \n",
       "12648         Astapor                       0                   4.9   \n",
       "48265      Winterfell                       1                   5.0   \n",
       "\n",
       "       avg_surge    phone  surge_pct  ultimate_black_user  weekday_pct  \\\n",
       "15017       1.08   iPhone       16.7                 True          0.0   \n",
       "41022       1.00   iPhone        0.0                False         60.0   \n",
       "7528        1.00   iPhone        0.0                 True         66.7   \n",
       "12648       1.00  Android        0.0                False        100.0   \n",
       "48265       1.00  Android        0.0                False         33.3   \n",
       "\n",
       "       avg_dist  avg_rating_by_driver  duration  duration_coded  \n",
       "15017      3.16                   4.7        36               0  \n",
       "41022      3.14                   5.0       166               1  \n",
       "7528      11.93                   5.0       158               1  \n",
       "12648      4.86                   5.0        92               0  \n",
       "48265      1.71                   4.3        56               0  "
      ]
     },
     "execution_count": 46,
     "metadata": {},
     "output_type": "execute_result"
    }
   ],
   "source": [
    "df.sample(5)"
   ]
  },
  {
   "cell_type": "markdown",
   "metadata": {},
   "source": []
  },
  {
   "cell_type": "code",
   "execution_count": 47,
   "metadata": {},
   "outputs": [],
   "source": [
    "df.drop('duration', axis = 1, inplace=True)"
   ]
  },
  {
   "cell_type": "code",
   "execution_count": 48,
   "metadata": {},
   "outputs": [
    {
     "data": {
      "text/html": [
       "<div>\n",
       "<style scoped>\n",
       "    .dataframe tbody tr th:only-of-type {\n",
       "        vertical-align: middle;\n",
       "    }\n",
       "\n",
       "    .dataframe tbody tr th {\n",
       "        vertical-align: top;\n",
       "    }\n",
       "\n",
       "    .dataframe thead th {\n",
       "        text-align: right;\n",
       "    }\n",
       "</style>\n",
       "<table border=\"1\" class=\"dataframe\">\n",
       "  <thead>\n",
       "    <tr style=\"text-align: right;\">\n",
       "      <th></th>\n",
       "      <th>city</th>\n",
       "      <th>trips_in_first_30_days</th>\n",
       "      <th>avg_rating_of_driver</th>\n",
       "      <th>avg_surge</th>\n",
       "      <th>phone</th>\n",
       "      <th>surge_pct</th>\n",
       "      <th>ultimate_black_user</th>\n",
       "      <th>weekday_pct</th>\n",
       "      <th>avg_dist</th>\n",
       "      <th>avg_rating_by_driver</th>\n",
       "      <th>duration_coded</th>\n",
       "    </tr>\n",
       "  </thead>\n",
       "  <tbody>\n",
       "    <tr>\n",
       "      <th>0</th>\n",
       "      <td>King's Landing</td>\n",
       "      <td>4</td>\n",
       "      <td>4.7</td>\n",
       "      <td>1.10</td>\n",
       "      <td>iPhone</td>\n",
       "      <td>15.4</td>\n",
       "      <td>True</td>\n",
       "      <td>46.2</td>\n",
       "      <td>3.67</td>\n",
       "      <td>5.0</td>\n",
       "      <td>0</td>\n",
       "    </tr>\n",
       "    <tr>\n",
       "      <th>1</th>\n",
       "      <td>Astapor</td>\n",
       "      <td>0</td>\n",
       "      <td>5.0</td>\n",
       "      <td>1.00</td>\n",
       "      <td>Android</td>\n",
       "      <td>0.0</td>\n",
       "      <td>False</td>\n",
       "      <td>50.0</td>\n",
       "      <td>8.26</td>\n",
       "      <td>5.0</td>\n",
       "      <td>0</td>\n",
       "    </tr>\n",
       "    <tr>\n",
       "      <th>2</th>\n",
       "      <td>Astapor</td>\n",
       "      <td>3</td>\n",
       "      <td>4.3</td>\n",
       "      <td>1.00</td>\n",
       "      <td>iPhone</td>\n",
       "      <td>0.0</td>\n",
       "      <td>False</td>\n",
       "      <td>100.0</td>\n",
       "      <td>0.77</td>\n",
       "      <td>5.0</td>\n",
       "      <td>0</td>\n",
       "    </tr>\n",
       "    <tr>\n",
       "      <th>3</th>\n",
       "      <td>King's Landing</td>\n",
       "      <td>9</td>\n",
       "      <td>4.6</td>\n",
       "      <td>1.14</td>\n",
       "      <td>iPhone</td>\n",
       "      <td>20.0</td>\n",
       "      <td>True</td>\n",
       "      <td>80.0</td>\n",
       "      <td>2.36</td>\n",
       "      <td>4.9</td>\n",
       "      <td>1</td>\n",
       "    </tr>\n",
       "    <tr>\n",
       "      <th>4</th>\n",
       "      <td>Winterfell</td>\n",
       "      <td>14</td>\n",
       "      <td>4.4</td>\n",
       "      <td>1.19</td>\n",
       "      <td>Android</td>\n",
       "      <td>11.8</td>\n",
       "      <td>False</td>\n",
       "      <td>82.4</td>\n",
       "      <td>3.13</td>\n",
       "      <td>4.9</td>\n",
       "      <td>0</td>\n",
       "    </tr>\n",
       "  </tbody>\n",
       "</table>\n",
       "</div>"
      ],
      "text/plain": [
       "             city  trips_in_first_30_days  avg_rating_of_driver  avg_surge  \\\n",
       "0  King's Landing                       4                   4.7       1.10   \n",
       "1         Astapor                       0                   5.0       1.00   \n",
       "2         Astapor                       3                   4.3       1.00   \n",
       "3  King's Landing                       9                   4.6       1.14   \n",
       "4      Winterfell                      14                   4.4       1.19   \n",
       "\n",
       "     phone  surge_pct  ultimate_black_user  weekday_pct  avg_dist  \\\n",
       "0   iPhone       15.4                 True         46.2      3.67   \n",
       "1  Android        0.0                False         50.0      8.26   \n",
       "2   iPhone        0.0                False        100.0      0.77   \n",
       "3   iPhone       20.0                 True         80.0      2.36   \n",
       "4  Android       11.8                False         82.4      3.13   \n",
       "\n",
       "   avg_rating_by_driver  duration_coded  \n",
       "0                   5.0               0  \n",
       "1                   5.0               0  \n",
       "2                   5.0               0  \n",
       "3                   4.9               1  \n",
       "4                   4.9               0  "
      ]
     },
     "execution_count": 48,
     "metadata": {},
     "output_type": "execute_result"
    }
   ],
   "source": [
    "df.head()"
   ]
  },
  {
   "cell_type": "code",
   "execution_count": 49,
   "metadata": {},
   "outputs": [
    {
     "data": {
      "text/plain": [
       "iPhone     34446\n",
       "Android    14960\n",
       "Name: phone, dtype: int64"
      ]
     },
     "execution_count": 49,
     "metadata": {},
     "output_type": "execute_result"
    }
   ],
   "source": [
    "df['phone'].value_counts()"
   ]
  },
  {
   "cell_type": "code",
   "execution_count": 50,
   "metadata": {},
   "outputs": [],
   "source": [
    "jk= pd.get_dummies(df['phone'])"
   ]
  },
  {
   "cell_type": "code",
   "execution_count": 51,
   "metadata": {},
   "outputs": [
    {
     "data": {
      "text/html": [
       "<div>\n",
       "<style scoped>\n",
       "    .dataframe tbody tr th:only-of-type {\n",
       "        vertical-align: middle;\n",
       "    }\n",
       "\n",
       "    .dataframe tbody tr th {\n",
       "        vertical-align: top;\n",
       "    }\n",
       "\n",
       "    .dataframe thead th {\n",
       "        text-align: right;\n",
       "    }\n",
       "</style>\n",
       "<table border=\"1\" class=\"dataframe\">\n",
       "  <thead>\n",
       "    <tr style=\"text-align: right;\">\n",
       "      <th></th>\n",
       "      <th>Android</th>\n",
       "      <th>iPhone</th>\n",
       "    </tr>\n",
       "  </thead>\n",
       "  <tbody>\n",
       "    <tr>\n",
       "      <th>0</th>\n",
       "      <td>0</td>\n",
       "      <td>1</td>\n",
       "    </tr>\n",
       "    <tr>\n",
       "      <th>1</th>\n",
       "      <td>1</td>\n",
       "      <td>0</td>\n",
       "    </tr>\n",
       "    <tr>\n",
       "      <th>2</th>\n",
       "      <td>0</td>\n",
       "      <td>1</td>\n",
       "    </tr>\n",
       "    <tr>\n",
       "      <th>3</th>\n",
       "      <td>0</td>\n",
       "      <td>1</td>\n",
       "    </tr>\n",
       "    <tr>\n",
       "      <th>4</th>\n",
       "      <td>1</td>\n",
       "      <td>0</td>\n",
       "    </tr>\n",
       "    <tr>\n",
       "      <th>...</th>\n",
       "      <td>...</td>\n",
       "      <td>...</td>\n",
       "    </tr>\n",
       "    <tr>\n",
       "      <th>49995</th>\n",
       "      <td>0</td>\n",
       "      <td>1</td>\n",
       "    </tr>\n",
       "    <tr>\n",
       "      <th>49996</th>\n",
       "      <td>0</td>\n",
       "      <td>1</td>\n",
       "    </tr>\n",
       "    <tr>\n",
       "      <th>49997</th>\n",
       "      <td>1</td>\n",
       "      <td>0</td>\n",
       "    </tr>\n",
       "    <tr>\n",
       "      <th>49998</th>\n",
       "      <td>0</td>\n",
       "      <td>1</td>\n",
       "    </tr>\n",
       "    <tr>\n",
       "      <th>49999</th>\n",
       "      <td>1</td>\n",
       "      <td>0</td>\n",
       "    </tr>\n",
       "  </tbody>\n",
       "</table>\n",
       "<p>49406 rows × 2 columns</p>\n",
       "</div>"
      ],
      "text/plain": [
       "       Android  iPhone\n",
       "0            0       1\n",
       "1            1       0\n",
       "2            0       1\n",
       "3            0       1\n",
       "4            1       0\n",
       "...        ...     ...\n",
       "49995        0       1\n",
       "49996        0       1\n",
       "49997        1       0\n",
       "49998        0       1\n",
       "49999        1       0\n",
       "\n",
       "[49406 rows x 2 columns]"
      ]
     },
     "execution_count": 51,
     "metadata": {},
     "output_type": "execute_result"
    }
   ],
   "source": [
    "jk"
   ]
  },
  {
   "cell_type": "code",
   "execution_count": 52,
   "metadata": {},
   "outputs": [],
   "source": [
    "df = df.join(jk)"
   ]
  },
  {
   "cell_type": "code",
   "execution_count": 53,
   "metadata": {},
   "outputs": [
    {
     "data": {
      "text/html": [
       "<div>\n",
       "<style scoped>\n",
       "    .dataframe tbody tr th:only-of-type {\n",
       "        vertical-align: middle;\n",
       "    }\n",
       "\n",
       "    .dataframe tbody tr th {\n",
       "        vertical-align: top;\n",
       "    }\n",
       "\n",
       "    .dataframe thead th {\n",
       "        text-align: right;\n",
       "    }\n",
       "</style>\n",
       "<table border=\"1\" class=\"dataframe\">\n",
       "  <thead>\n",
       "    <tr style=\"text-align: right;\">\n",
       "      <th></th>\n",
       "      <th>city</th>\n",
       "      <th>trips_in_first_30_days</th>\n",
       "      <th>avg_rating_of_driver</th>\n",
       "      <th>avg_surge</th>\n",
       "      <th>phone</th>\n",
       "      <th>surge_pct</th>\n",
       "      <th>ultimate_black_user</th>\n",
       "      <th>weekday_pct</th>\n",
       "      <th>avg_dist</th>\n",
       "      <th>avg_rating_by_driver</th>\n",
       "      <th>duration_coded</th>\n",
       "      <th>Android</th>\n",
       "      <th>iPhone</th>\n",
       "    </tr>\n",
       "  </thead>\n",
       "  <tbody>\n",
       "    <tr>\n",
       "      <th>0</th>\n",
       "      <td>King's Landing</td>\n",
       "      <td>4</td>\n",
       "      <td>4.7</td>\n",
       "      <td>1.10</td>\n",
       "      <td>iPhone</td>\n",
       "      <td>15.4</td>\n",
       "      <td>True</td>\n",
       "      <td>46.2</td>\n",
       "      <td>3.67</td>\n",
       "      <td>5.0</td>\n",
       "      <td>0</td>\n",
       "      <td>0</td>\n",
       "      <td>1</td>\n",
       "    </tr>\n",
       "    <tr>\n",
       "      <th>1</th>\n",
       "      <td>Astapor</td>\n",
       "      <td>0</td>\n",
       "      <td>5.0</td>\n",
       "      <td>1.00</td>\n",
       "      <td>Android</td>\n",
       "      <td>0.0</td>\n",
       "      <td>False</td>\n",
       "      <td>50.0</td>\n",
       "      <td>8.26</td>\n",
       "      <td>5.0</td>\n",
       "      <td>0</td>\n",
       "      <td>1</td>\n",
       "      <td>0</td>\n",
       "    </tr>\n",
       "    <tr>\n",
       "      <th>2</th>\n",
       "      <td>Astapor</td>\n",
       "      <td>3</td>\n",
       "      <td>4.3</td>\n",
       "      <td>1.00</td>\n",
       "      <td>iPhone</td>\n",
       "      <td>0.0</td>\n",
       "      <td>False</td>\n",
       "      <td>100.0</td>\n",
       "      <td>0.77</td>\n",
       "      <td>5.0</td>\n",
       "      <td>0</td>\n",
       "      <td>0</td>\n",
       "      <td>1</td>\n",
       "    </tr>\n",
       "    <tr>\n",
       "      <th>3</th>\n",
       "      <td>King's Landing</td>\n",
       "      <td>9</td>\n",
       "      <td>4.6</td>\n",
       "      <td>1.14</td>\n",
       "      <td>iPhone</td>\n",
       "      <td>20.0</td>\n",
       "      <td>True</td>\n",
       "      <td>80.0</td>\n",
       "      <td>2.36</td>\n",
       "      <td>4.9</td>\n",
       "      <td>1</td>\n",
       "      <td>0</td>\n",
       "      <td>1</td>\n",
       "    </tr>\n",
       "    <tr>\n",
       "      <th>4</th>\n",
       "      <td>Winterfell</td>\n",
       "      <td>14</td>\n",
       "      <td>4.4</td>\n",
       "      <td>1.19</td>\n",
       "      <td>Android</td>\n",
       "      <td>11.8</td>\n",
       "      <td>False</td>\n",
       "      <td>82.4</td>\n",
       "      <td>3.13</td>\n",
       "      <td>4.9</td>\n",
       "      <td>0</td>\n",
       "      <td>1</td>\n",
       "      <td>0</td>\n",
       "    </tr>\n",
       "  </tbody>\n",
       "</table>\n",
       "</div>"
      ],
      "text/plain": [
       "             city  trips_in_first_30_days  avg_rating_of_driver  avg_surge  \\\n",
       "0  King's Landing                       4                   4.7       1.10   \n",
       "1         Astapor                       0                   5.0       1.00   \n",
       "2         Astapor                       3                   4.3       1.00   \n",
       "3  King's Landing                       9                   4.6       1.14   \n",
       "4      Winterfell                      14                   4.4       1.19   \n",
       "\n",
       "     phone  surge_pct  ultimate_black_user  weekday_pct  avg_dist  \\\n",
       "0   iPhone       15.4                 True         46.2      3.67   \n",
       "1  Android        0.0                False         50.0      8.26   \n",
       "2   iPhone        0.0                False        100.0      0.77   \n",
       "3   iPhone       20.0                 True         80.0      2.36   \n",
       "4  Android       11.8                False         82.4      3.13   \n",
       "\n",
       "   avg_rating_by_driver  duration_coded  Android  iPhone  \n",
       "0                   5.0               0        0       1  \n",
       "1                   5.0               0        1       0  \n",
       "2                   5.0               0        0       1  \n",
       "3                   4.9               1        0       1  \n",
       "4                   4.9               0        1       0  "
      ]
     },
     "execution_count": 53,
     "metadata": {},
     "output_type": "execute_result"
    }
   ],
   "source": [
    "df.head()"
   ]
  },
  {
   "attachments": {},
   "cell_type": "markdown",
   "metadata": {},
   "source": [
    "now drop Iphone -- since it's reduntant -- and phone, since they are reduntant"
   ]
  },
  {
   "cell_type": "code",
   "execution_count": 54,
   "metadata": {},
   "outputs": [],
   "source": [
    "df.drop(['phone', 'iPhone' ], axis=1, inplace=True)"
   ]
  },
  {
   "cell_type": "code",
   "execution_count": 55,
   "metadata": {},
   "outputs": [
    {
     "data": {
      "text/html": [
       "<div>\n",
       "<style scoped>\n",
       "    .dataframe tbody tr th:only-of-type {\n",
       "        vertical-align: middle;\n",
       "    }\n",
       "\n",
       "    .dataframe tbody tr th {\n",
       "        vertical-align: top;\n",
       "    }\n",
       "\n",
       "    .dataframe thead th {\n",
       "        text-align: right;\n",
       "    }\n",
       "</style>\n",
       "<table border=\"1\" class=\"dataframe\">\n",
       "  <thead>\n",
       "    <tr style=\"text-align: right;\">\n",
       "      <th></th>\n",
       "      <th>city</th>\n",
       "      <th>trips_in_first_30_days</th>\n",
       "      <th>avg_rating_of_driver</th>\n",
       "      <th>avg_surge</th>\n",
       "      <th>surge_pct</th>\n",
       "      <th>ultimate_black_user</th>\n",
       "      <th>weekday_pct</th>\n",
       "      <th>avg_dist</th>\n",
       "      <th>avg_rating_by_driver</th>\n",
       "      <th>duration_coded</th>\n",
       "      <th>Android</th>\n",
       "    </tr>\n",
       "  </thead>\n",
       "  <tbody>\n",
       "    <tr>\n",
       "      <th>0</th>\n",
       "      <td>King's Landing</td>\n",
       "      <td>4</td>\n",
       "      <td>4.7</td>\n",
       "      <td>1.10</td>\n",
       "      <td>15.4</td>\n",
       "      <td>True</td>\n",
       "      <td>46.2</td>\n",
       "      <td>3.67</td>\n",
       "      <td>5.0</td>\n",
       "      <td>0</td>\n",
       "      <td>0</td>\n",
       "    </tr>\n",
       "    <tr>\n",
       "      <th>1</th>\n",
       "      <td>Astapor</td>\n",
       "      <td>0</td>\n",
       "      <td>5.0</td>\n",
       "      <td>1.00</td>\n",
       "      <td>0.0</td>\n",
       "      <td>False</td>\n",
       "      <td>50.0</td>\n",
       "      <td>8.26</td>\n",
       "      <td>5.0</td>\n",
       "      <td>0</td>\n",
       "      <td>1</td>\n",
       "    </tr>\n",
       "    <tr>\n",
       "      <th>2</th>\n",
       "      <td>Astapor</td>\n",
       "      <td>3</td>\n",
       "      <td>4.3</td>\n",
       "      <td>1.00</td>\n",
       "      <td>0.0</td>\n",
       "      <td>False</td>\n",
       "      <td>100.0</td>\n",
       "      <td>0.77</td>\n",
       "      <td>5.0</td>\n",
       "      <td>0</td>\n",
       "      <td>0</td>\n",
       "    </tr>\n",
       "    <tr>\n",
       "      <th>3</th>\n",
       "      <td>King's Landing</td>\n",
       "      <td>9</td>\n",
       "      <td>4.6</td>\n",
       "      <td>1.14</td>\n",
       "      <td>20.0</td>\n",
       "      <td>True</td>\n",
       "      <td>80.0</td>\n",
       "      <td>2.36</td>\n",
       "      <td>4.9</td>\n",
       "      <td>1</td>\n",
       "      <td>0</td>\n",
       "    </tr>\n",
       "    <tr>\n",
       "      <th>4</th>\n",
       "      <td>Winterfell</td>\n",
       "      <td>14</td>\n",
       "      <td>4.4</td>\n",
       "      <td>1.19</td>\n",
       "      <td>11.8</td>\n",
       "      <td>False</td>\n",
       "      <td>82.4</td>\n",
       "      <td>3.13</td>\n",
       "      <td>4.9</td>\n",
       "      <td>0</td>\n",
       "      <td>1</td>\n",
       "    </tr>\n",
       "  </tbody>\n",
       "</table>\n",
       "</div>"
      ],
      "text/plain": [
       "             city  trips_in_first_30_days  avg_rating_of_driver  avg_surge  \\\n",
       "0  King's Landing                       4                   4.7       1.10   \n",
       "1         Astapor                       0                   5.0       1.00   \n",
       "2         Astapor                       3                   4.3       1.00   \n",
       "3  King's Landing                       9                   4.6       1.14   \n",
       "4      Winterfell                      14                   4.4       1.19   \n",
       "\n",
       "   surge_pct  ultimate_black_user  weekday_pct  avg_dist  \\\n",
       "0       15.4                 True         46.2      3.67   \n",
       "1        0.0                False         50.0      8.26   \n",
       "2        0.0                False        100.0      0.77   \n",
       "3       20.0                 True         80.0      2.36   \n",
       "4       11.8                False         82.4      3.13   \n",
       "\n",
       "   avg_rating_by_driver  duration_coded  Android  \n",
       "0                   5.0               0        0  \n",
       "1                   5.0               0        1  \n",
       "2                   5.0               0        0  \n",
       "3                   4.9               1        0  \n",
       "4                   4.9               0        1  "
      ]
     },
     "execution_count": 55,
     "metadata": {},
     "output_type": "execute_result"
    }
   ],
   "source": [
    "df.head()"
   ]
  },
  {
   "cell_type": "code",
   "execution_count": 56,
   "metadata": {},
   "outputs": [
    {
     "name": "stdout",
     "output_type": "stream",
     "text": [
      "<class 'pandas.core.frame.DataFrame'>\n",
      "Int64Index: 49406 entries, 0 to 49999\n",
      "Data columns (total 11 columns):\n",
      " #   Column                  Non-Null Count  Dtype  \n",
      "---  ------                  --------------  -----  \n",
      " 0   city                    49406 non-null  object \n",
      " 1   trips_in_first_30_days  49406 non-null  int64  \n",
      " 2   avg_rating_of_driver    49406 non-null  float64\n",
      " 3   avg_surge               49406 non-null  float64\n",
      " 4   surge_pct               49406 non-null  float64\n",
      " 5   ultimate_black_user     49406 non-null  bool   \n",
      " 6   weekday_pct             49406 non-null  float64\n",
      " 7   avg_dist                49406 non-null  float64\n",
      " 8   avg_rating_by_driver    49406 non-null  float64\n",
      " 9   duration_coded          49406 non-null  int64  \n",
      " 10  Android                 49406 non-null  uint8  \n",
      "dtypes: bool(1), float64(6), int64(2), object(1), uint8(1)\n",
      "memory usage: 4.9+ MB\n"
     ]
    }
   ],
   "source": [
    "df.info()"
   ]
  },
  {
   "attachments": {},
   "cell_type": "markdown",
   "metadata": {},
   "source": [
    "convert Android column to int64"
   ]
  },
  {
   "cell_type": "code",
   "execution_count": 57,
   "metadata": {},
   "outputs": [],
   "source": [
    "df['Android'] = df['Android'].astype('int64')"
   ]
  },
  {
   "cell_type": "code",
   "execution_count": 58,
   "metadata": {},
   "outputs": [
    {
     "name": "stdout",
     "output_type": "stream",
     "text": [
      "<class 'pandas.core.frame.DataFrame'>\n",
      "Int64Index: 49406 entries, 0 to 49999\n",
      "Data columns (total 11 columns):\n",
      " #   Column                  Non-Null Count  Dtype  \n",
      "---  ------                  --------------  -----  \n",
      " 0   city                    49406 non-null  object \n",
      " 1   trips_in_first_30_days  49406 non-null  int64  \n",
      " 2   avg_rating_of_driver    49406 non-null  float64\n",
      " 3   avg_surge               49406 non-null  float64\n",
      " 4   surge_pct               49406 non-null  float64\n",
      " 5   ultimate_black_user     49406 non-null  bool   \n",
      " 6   weekday_pct             49406 non-null  float64\n",
      " 7   avg_dist                49406 non-null  float64\n",
      " 8   avg_rating_by_driver    49406 non-null  float64\n",
      " 9   duration_coded          49406 non-null  int64  \n",
      " 10  Android                 49406 non-null  int64  \n",
      "dtypes: bool(1), float64(6), int64(3), object(1)\n",
      "memory usage: 5.2+ MB\n"
     ]
    }
   ],
   "source": [
    "df.info()"
   ]
  },
  {
   "cell_type": "code",
   "execution_count": 59,
   "metadata": {},
   "outputs": [
    {
     "data": {
      "text/plain": [
       "Winterfell        23024\n",
       "Astapor           16355\n",
       "King's Landing    10027\n",
       "Name: city, dtype: int64"
      ]
     },
     "execution_count": 59,
     "metadata": {},
     "output_type": "execute_result"
    }
   ],
   "source": [
    "df['city'].value_counts()"
   ]
  },
  {
   "cell_type": "code",
   "execution_count": 60,
   "metadata": {},
   "outputs": [],
   "source": [
    "city_dummies = pd.get_dummies(df['city'], drop_first=True)"
   ]
  },
  {
   "cell_type": "code",
   "execution_count": 61,
   "metadata": {},
   "outputs": [
    {
     "data": {
      "text/html": [
       "<div>\n",
       "<style scoped>\n",
       "    .dataframe tbody tr th:only-of-type {\n",
       "        vertical-align: middle;\n",
       "    }\n",
       "\n",
       "    .dataframe tbody tr th {\n",
       "        vertical-align: top;\n",
       "    }\n",
       "\n",
       "    .dataframe thead th {\n",
       "        text-align: right;\n",
       "    }\n",
       "</style>\n",
       "<table border=\"1\" class=\"dataframe\">\n",
       "  <thead>\n",
       "    <tr style=\"text-align: right;\">\n",
       "      <th></th>\n",
       "      <th>King's Landing</th>\n",
       "      <th>Winterfell</th>\n",
       "    </tr>\n",
       "  </thead>\n",
       "  <tbody>\n",
       "    <tr>\n",
       "      <th>0</th>\n",
       "      <td>1</td>\n",
       "      <td>0</td>\n",
       "    </tr>\n",
       "    <tr>\n",
       "      <th>1</th>\n",
       "      <td>0</td>\n",
       "      <td>0</td>\n",
       "    </tr>\n",
       "    <tr>\n",
       "      <th>2</th>\n",
       "      <td>0</td>\n",
       "      <td>0</td>\n",
       "    </tr>\n",
       "    <tr>\n",
       "      <th>3</th>\n",
       "      <td>1</td>\n",
       "      <td>0</td>\n",
       "    </tr>\n",
       "    <tr>\n",
       "      <th>4</th>\n",
       "      <td>0</td>\n",
       "      <td>1</td>\n",
       "    </tr>\n",
       "    <tr>\n",
       "      <th>...</th>\n",
       "      <td>...</td>\n",
       "      <td>...</td>\n",
       "    </tr>\n",
       "    <tr>\n",
       "      <th>49995</th>\n",
       "      <td>1</td>\n",
       "      <td>0</td>\n",
       "    </tr>\n",
       "    <tr>\n",
       "      <th>49996</th>\n",
       "      <td>0</td>\n",
       "      <td>0</td>\n",
       "    </tr>\n",
       "    <tr>\n",
       "      <th>49997</th>\n",
       "      <td>0</td>\n",
       "      <td>1</td>\n",
       "    </tr>\n",
       "    <tr>\n",
       "      <th>49998</th>\n",
       "      <td>0</td>\n",
       "      <td>0</td>\n",
       "    </tr>\n",
       "    <tr>\n",
       "      <th>49999</th>\n",
       "      <td>0</td>\n",
       "      <td>0</td>\n",
       "    </tr>\n",
       "  </tbody>\n",
       "</table>\n",
       "<p>49406 rows × 2 columns</p>\n",
       "</div>"
      ],
      "text/plain": [
       "       King's Landing  Winterfell\n",
       "0                   1           0\n",
       "1                   0           0\n",
       "2                   0           0\n",
       "3                   1           0\n",
       "4                   0           1\n",
       "...               ...         ...\n",
       "49995               1           0\n",
       "49996               0           0\n",
       "49997               0           1\n",
       "49998               0           0\n",
       "49999               0           0\n",
       "\n",
       "[49406 rows x 2 columns]"
      ]
     },
     "execution_count": 61,
     "metadata": {},
     "output_type": "execute_result"
    }
   ],
   "source": [
    "city_dummies"
   ]
  },
  {
   "cell_type": "code",
   "execution_count": 62,
   "metadata": {},
   "outputs": [],
   "source": [
    "df = df.join(city_dummies)"
   ]
  },
  {
   "cell_type": "code",
   "execution_count": 63,
   "metadata": {},
   "outputs": [
    {
     "data": {
      "text/html": [
       "<div>\n",
       "<style scoped>\n",
       "    .dataframe tbody tr th:only-of-type {\n",
       "        vertical-align: middle;\n",
       "    }\n",
       "\n",
       "    .dataframe tbody tr th {\n",
       "        vertical-align: top;\n",
       "    }\n",
       "\n",
       "    .dataframe thead th {\n",
       "        text-align: right;\n",
       "    }\n",
       "</style>\n",
       "<table border=\"1\" class=\"dataframe\">\n",
       "  <thead>\n",
       "    <tr style=\"text-align: right;\">\n",
       "      <th></th>\n",
       "      <th>city</th>\n",
       "      <th>trips_in_first_30_days</th>\n",
       "      <th>avg_rating_of_driver</th>\n",
       "      <th>avg_surge</th>\n",
       "      <th>surge_pct</th>\n",
       "      <th>ultimate_black_user</th>\n",
       "      <th>weekday_pct</th>\n",
       "      <th>avg_dist</th>\n",
       "      <th>avg_rating_by_driver</th>\n",
       "      <th>duration_coded</th>\n",
       "      <th>Android</th>\n",
       "      <th>King's Landing</th>\n",
       "      <th>Winterfell</th>\n",
       "    </tr>\n",
       "  </thead>\n",
       "  <tbody>\n",
       "    <tr>\n",
       "      <th>0</th>\n",
       "      <td>King's Landing</td>\n",
       "      <td>4</td>\n",
       "      <td>4.7</td>\n",
       "      <td>1.10</td>\n",
       "      <td>15.4</td>\n",
       "      <td>True</td>\n",
       "      <td>46.2</td>\n",
       "      <td>3.67</td>\n",
       "      <td>5.0</td>\n",
       "      <td>0</td>\n",
       "      <td>0</td>\n",
       "      <td>1</td>\n",
       "      <td>0</td>\n",
       "    </tr>\n",
       "    <tr>\n",
       "      <th>1</th>\n",
       "      <td>Astapor</td>\n",
       "      <td>0</td>\n",
       "      <td>5.0</td>\n",
       "      <td>1.00</td>\n",
       "      <td>0.0</td>\n",
       "      <td>False</td>\n",
       "      <td>50.0</td>\n",
       "      <td>8.26</td>\n",
       "      <td>5.0</td>\n",
       "      <td>0</td>\n",
       "      <td>1</td>\n",
       "      <td>0</td>\n",
       "      <td>0</td>\n",
       "    </tr>\n",
       "    <tr>\n",
       "      <th>2</th>\n",
       "      <td>Astapor</td>\n",
       "      <td>3</td>\n",
       "      <td>4.3</td>\n",
       "      <td>1.00</td>\n",
       "      <td>0.0</td>\n",
       "      <td>False</td>\n",
       "      <td>100.0</td>\n",
       "      <td>0.77</td>\n",
       "      <td>5.0</td>\n",
       "      <td>0</td>\n",
       "      <td>0</td>\n",
       "      <td>0</td>\n",
       "      <td>0</td>\n",
       "    </tr>\n",
       "    <tr>\n",
       "      <th>3</th>\n",
       "      <td>King's Landing</td>\n",
       "      <td>9</td>\n",
       "      <td>4.6</td>\n",
       "      <td>1.14</td>\n",
       "      <td>20.0</td>\n",
       "      <td>True</td>\n",
       "      <td>80.0</td>\n",
       "      <td>2.36</td>\n",
       "      <td>4.9</td>\n",
       "      <td>1</td>\n",
       "      <td>0</td>\n",
       "      <td>1</td>\n",
       "      <td>0</td>\n",
       "    </tr>\n",
       "    <tr>\n",
       "      <th>4</th>\n",
       "      <td>Winterfell</td>\n",
       "      <td>14</td>\n",
       "      <td>4.4</td>\n",
       "      <td>1.19</td>\n",
       "      <td>11.8</td>\n",
       "      <td>False</td>\n",
       "      <td>82.4</td>\n",
       "      <td>3.13</td>\n",
       "      <td>4.9</td>\n",
       "      <td>0</td>\n",
       "      <td>1</td>\n",
       "      <td>0</td>\n",
       "      <td>1</td>\n",
       "    </tr>\n",
       "  </tbody>\n",
       "</table>\n",
       "</div>"
      ],
      "text/plain": [
       "             city  trips_in_first_30_days  avg_rating_of_driver  avg_surge  \\\n",
       "0  King's Landing                       4                   4.7       1.10   \n",
       "1         Astapor                       0                   5.0       1.00   \n",
       "2         Astapor                       3                   4.3       1.00   \n",
       "3  King's Landing                       9                   4.6       1.14   \n",
       "4      Winterfell                      14                   4.4       1.19   \n",
       "\n",
       "   surge_pct  ultimate_black_user  weekday_pct  avg_dist  \\\n",
       "0       15.4                 True         46.2      3.67   \n",
       "1        0.0                False         50.0      8.26   \n",
       "2        0.0                False        100.0      0.77   \n",
       "3       20.0                 True         80.0      2.36   \n",
       "4       11.8                False         82.4      3.13   \n",
       "\n",
       "   avg_rating_by_driver  duration_coded  Android  King's Landing  Winterfell  \n",
       "0                   5.0               0        0               1           0  \n",
       "1                   5.0               0        1               0           0  \n",
       "2                   5.0               0        0               0           0  \n",
       "3                   4.9               1        0               1           0  \n",
       "4                   4.9               0        1               0           1  "
      ]
     },
     "execution_count": 63,
     "metadata": {},
     "output_type": "execute_result"
    }
   ],
   "source": [
    "df.head()"
   ]
  },
  {
   "cell_type": "code",
   "execution_count": 64,
   "metadata": {},
   "outputs": [],
   "source": [
    "df.drop('city',axis=1, inplace=True)"
   ]
  },
  {
   "cell_type": "code",
   "execution_count": 65,
   "metadata": {},
   "outputs": [
    {
     "data": {
      "text/html": [
       "<div>\n",
       "<style scoped>\n",
       "    .dataframe tbody tr th:only-of-type {\n",
       "        vertical-align: middle;\n",
       "    }\n",
       "\n",
       "    .dataframe tbody tr th {\n",
       "        vertical-align: top;\n",
       "    }\n",
       "\n",
       "    .dataframe thead th {\n",
       "        text-align: right;\n",
       "    }\n",
       "</style>\n",
       "<table border=\"1\" class=\"dataframe\">\n",
       "  <thead>\n",
       "    <tr style=\"text-align: right;\">\n",
       "      <th></th>\n",
       "      <th>trips_in_first_30_days</th>\n",
       "      <th>avg_rating_of_driver</th>\n",
       "      <th>avg_surge</th>\n",
       "      <th>surge_pct</th>\n",
       "      <th>ultimate_black_user</th>\n",
       "      <th>weekday_pct</th>\n",
       "      <th>avg_dist</th>\n",
       "      <th>avg_rating_by_driver</th>\n",
       "      <th>duration_coded</th>\n",
       "      <th>Android</th>\n",
       "      <th>King's Landing</th>\n",
       "      <th>Winterfell</th>\n",
       "    </tr>\n",
       "  </thead>\n",
       "  <tbody>\n",
       "    <tr>\n",
       "      <th>0</th>\n",
       "      <td>4</td>\n",
       "      <td>4.7</td>\n",
       "      <td>1.10</td>\n",
       "      <td>15.4</td>\n",
       "      <td>True</td>\n",
       "      <td>46.2</td>\n",
       "      <td>3.67</td>\n",
       "      <td>5.0</td>\n",
       "      <td>0</td>\n",
       "      <td>0</td>\n",
       "      <td>1</td>\n",
       "      <td>0</td>\n",
       "    </tr>\n",
       "    <tr>\n",
       "      <th>1</th>\n",
       "      <td>0</td>\n",
       "      <td>5.0</td>\n",
       "      <td>1.00</td>\n",
       "      <td>0.0</td>\n",
       "      <td>False</td>\n",
       "      <td>50.0</td>\n",
       "      <td>8.26</td>\n",
       "      <td>5.0</td>\n",
       "      <td>0</td>\n",
       "      <td>1</td>\n",
       "      <td>0</td>\n",
       "      <td>0</td>\n",
       "    </tr>\n",
       "    <tr>\n",
       "      <th>2</th>\n",
       "      <td>3</td>\n",
       "      <td>4.3</td>\n",
       "      <td>1.00</td>\n",
       "      <td>0.0</td>\n",
       "      <td>False</td>\n",
       "      <td>100.0</td>\n",
       "      <td>0.77</td>\n",
       "      <td>5.0</td>\n",
       "      <td>0</td>\n",
       "      <td>0</td>\n",
       "      <td>0</td>\n",
       "      <td>0</td>\n",
       "    </tr>\n",
       "    <tr>\n",
       "      <th>3</th>\n",
       "      <td>9</td>\n",
       "      <td>4.6</td>\n",
       "      <td>1.14</td>\n",
       "      <td>20.0</td>\n",
       "      <td>True</td>\n",
       "      <td>80.0</td>\n",
       "      <td>2.36</td>\n",
       "      <td>4.9</td>\n",
       "      <td>1</td>\n",
       "      <td>0</td>\n",
       "      <td>1</td>\n",
       "      <td>0</td>\n",
       "    </tr>\n",
       "    <tr>\n",
       "      <th>4</th>\n",
       "      <td>14</td>\n",
       "      <td>4.4</td>\n",
       "      <td>1.19</td>\n",
       "      <td>11.8</td>\n",
       "      <td>False</td>\n",
       "      <td>82.4</td>\n",
       "      <td>3.13</td>\n",
       "      <td>4.9</td>\n",
       "      <td>0</td>\n",
       "      <td>1</td>\n",
       "      <td>0</td>\n",
       "      <td>1</td>\n",
       "    </tr>\n",
       "  </tbody>\n",
       "</table>\n",
       "</div>"
      ],
      "text/plain": [
       "   trips_in_first_30_days  avg_rating_of_driver  avg_surge  surge_pct  \\\n",
       "0                       4                   4.7       1.10       15.4   \n",
       "1                       0                   5.0       1.00        0.0   \n",
       "2                       3                   4.3       1.00        0.0   \n",
       "3                       9                   4.6       1.14       20.0   \n",
       "4                      14                   4.4       1.19       11.8   \n",
       "\n",
       "   ultimate_black_user  weekday_pct  avg_dist  avg_rating_by_driver  \\\n",
       "0                 True         46.2      3.67                   5.0   \n",
       "1                False         50.0      8.26                   5.0   \n",
       "2                False        100.0      0.77                   5.0   \n",
       "3                 True         80.0      2.36                   4.9   \n",
       "4                False         82.4      3.13                   4.9   \n",
       "\n",
       "   duration_coded  Android  King's Landing  Winterfell  \n",
       "0               0        0               1           0  \n",
       "1               0        1               0           0  \n",
       "2               0        0               0           0  \n",
       "3               1        0               1           0  \n",
       "4               0        1               0           1  "
      ]
     },
     "execution_count": 65,
     "metadata": {},
     "output_type": "execute_result"
    }
   ],
   "source": [
    "df.head()"
   ]
  },
  {
   "attachments": {},
   "cell_type": "markdown",
   "metadata": {},
   "source": [
    "Now the data_set is cleaned and in a format for modeling, next we need to deal withe the unbalanced data. Since the data category of \n",
    "concerned is really unbalanced compared to the other category we will use a combination of undersampling and oversampling."
   ]
  },
  {
   "cell_type": "code",
   "execution_count": 66,
   "metadata": {},
   "outputs": [
    {
     "name": "stdout",
     "output_type": "stream",
     "text": [
      "<class 'pandas.core.frame.DataFrame'>\n",
      "Int64Index: 49406 entries, 0 to 49999\n",
      "Data columns (total 12 columns):\n",
      " #   Column                  Non-Null Count  Dtype  \n",
      "---  ------                  --------------  -----  \n",
      " 0   trips_in_first_30_days  49406 non-null  int64  \n",
      " 1   avg_rating_of_driver    49406 non-null  float64\n",
      " 2   avg_surge               49406 non-null  float64\n",
      " 3   surge_pct               49406 non-null  float64\n",
      " 4   ultimate_black_user     49406 non-null  bool   \n",
      " 5   weekday_pct             49406 non-null  float64\n",
      " 6   avg_dist                49406 non-null  float64\n",
      " 7   avg_rating_by_driver    49406 non-null  float64\n",
      " 8   duration_coded          49406 non-null  int64  \n",
      " 9   Android                 49406 non-null  int64  \n",
      " 10  King's Landing          49406 non-null  uint8  \n",
      " 11  Winterfell              49406 non-null  uint8  \n",
      "dtypes: bool(1), float64(6), int64(3), uint8(2)\n",
      "memory usage: 4.9 MB\n"
     ]
    }
   ],
   "source": [
    "df.info()"
   ]
  },
  {
   "cell_type": "code",
   "execution_count": 67,
   "metadata": {},
   "outputs": [],
   "source": [
    "df = df[['trips_in_first_30_days', 'avg_rating_of_driver','avg_surge','surge_pct','ultimate_black_user','weekday_pct','avg_dist'\n",
    "         , 'avg_rating_by_driver', 'Android', \"King's Landing\", 'Winterfell', 'duration_coded']]"
   ]
  },
  {
   "cell_type": "code",
   "execution_count": 68,
   "metadata": {},
   "outputs": [
    {
     "name": "stdout",
     "output_type": "stream",
     "text": [
      "<class 'pandas.core.frame.DataFrame'>\n",
      "Int64Index: 49406 entries, 0 to 49999\n",
      "Data columns (total 12 columns):\n",
      " #   Column                  Non-Null Count  Dtype  \n",
      "---  ------                  --------------  -----  \n",
      " 0   trips_in_first_30_days  49406 non-null  int64  \n",
      " 1   avg_rating_of_driver    49406 non-null  float64\n",
      " 2   avg_surge               49406 non-null  float64\n",
      " 3   surge_pct               49406 non-null  float64\n",
      " 4   ultimate_black_user     49406 non-null  bool   \n",
      " 5   weekday_pct             49406 non-null  float64\n",
      " 6   avg_dist                49406 non-null  float64\n",
      " 7   avg_rating_by_driver    49406 non-null  float64\n",
      " 8   Android                 49406 non-null  int64  \n",
      " 9   King's Landing          49406 non-null  uint8  \n",
      " 10  Winterfell              49406 non-null  uint8  \n",
      " 11  duration_coded          49406 non-null  int64  \n",
      "dtypes: bool(1), float64(6), int64(3), uint8(2)\n",
      "memory usage: 4.9 MB\n"
     ]
    }
   ],
   "source": [
    "df.info()"
   ]
  },
  {
   "cell_type": "code",
   "execution_count": 69,
   "metadata": {},
   "outputs": [],
   "source": [
    "df_clean = df.copy()"
   ]
  },
  {
   "cell_type": "code",
   "execution_count": 70,
   "metadata": {},
   "outputs": [
    {
     "data": {
      "text/plain": [
       "Index(['trips_in_first_30_days', 'avg_rating_of_driver', 'avg_surge',\n",
       "       'surge_pct', 'ultimate_black_user', 'weekday_pct', 'avg_dist',\n",
       "       'avg_rating_by_driver', 'Android', 'King's Landing', 'Winterfell',\n",
       "       'duration_coded'],\n",
       "      dtype='object')"
      ]
     },
     "execution_count": 70,
     "metadata": {},
     "output_type": "execute_result"
    }
   ],
   "source": [
    "df_clean.columns"
   ]
  },
  {
   "attachments": {},
   "cell_type": "markdown",
   "metadata": {},
   "source": [
    "# Modeling "
   ]
  },
  {
   "cell_type": "code",
   "execution_count": 71,
   "metadata": {},
   "outputs": [],
   "source": [
    "X, y = df_clean.loc[:, 'trips_in_first_30_days': 'Winterfell'].values, df_clean.loc[:, 'duration_coded'].values\n",
    "\n"
   ]
  },
  {
   "cell_type": "code",
   "execution_count": 72,
   "metadata": {},
   "outputs": [
    {
     "data": {
      "text/plain": [
       "array([[4, 4.7, 1.1, ..., 0, 1, 0],\n",
       "       [0, 5.0, 1.0, ..., 1, 0, 0],\n",
       "       [3, 4.3, 1.0, ..., 0, 0, 0],\n",
       "       ...,\n",
       "       [0, 5.0, 1.0, ..., 1, 0, 1],\n",
       "       [2, 3.0, 1.0, ..., 0, 0, 0],\n",
       "       [0, 4.9, 1.0, ..., 1, 0, 0]], dtype=object)"
      ]
     },
     "execution_count": 72,
     "metadata": {},
     "output_type": "execute_result"
    }
   ],
   "source": [
    "X"
   ]
  },
  {
   "cell_type": "code",
   "execution_count": 73,
   "metadata": {},
   "outputs": [
    {
     "data": {
      "text/plain": [
       "array([0, 0, 0, ..., 0, 0, 0], dtype=int64)"
      ]
     },
     "execution_count": 73,
     "metadata": {},
     "output_type": "execute_result"
    }
   ],
   "source": [
    "y"
   ]
  },
  {
   "cell_type": "code",
   "execution_count": 74,
   "metadata": {},
   "outputs": [
    {
     "data": {
      "text/plain": [
       "numpy.ndarray"
      ]
     },
     "execution_count": 74,
     "metadata": {},
     "output_type": "execute_result"
    }
   ],
   "source": [
    "type(X)"
   ]
  },
  {
   "cell_type": "code",
   "execution_count": 75,
   "metadata": {},
   "outputs": [],
   "source": [
    "from imblearn.over_sampling import SMOTE\n",
    "from imblearn.under_sampling import RandomUnderSampler\n",
    "from collections import Counter\n",
    "from sklearn.model_selection import train_test_split\n",
    "from sklearn.preprocessing import StandardScaler\n",
    "from sklearn.pipeline import make_pipeline\n",
    "from sklearn.metrics import confusion_matrix\n",
    "from sklearn.neighbors import KNeighborsClassifier\n",
    "from sklearn.metrics import matthews_corrcoef, make_scorer\n",
    "from sklearn.metrics import confusion_matrix\n",
    "from sklearn.inspection import permutation_importance\n",
    "\n",
    "smote = SMOTE(sampling_strategy=0.5, random_state=42)\n",
    "rus = RandomUnderSampler(sampling_strategy=1.0, random_state=42)\n",
    "\n",
    "X_resampled, y_resampled = smote.fit_resample(X, y)\n",
    "X_resampled, y_resampled = rus.fit_resample(X_resampled, y_resampled)"
   ]
  },
  {
   "cell_type": "code",
   "execution_count": 76,
   "metadata": {},
   "outputs": [],
   "source": [
    "X_train, X_test, y_train, y_test = train_test_split(X_resampled, y_resampled, test_size =0.3)"
   ]
  },
  {
   "cell_type": "code",
   "execution_count": 77,
   "metadata": {},
   "outputs": [
    {
     "name": "stdout",
     "output_type": "stream",
     "text": [
      "Original dataset shape Counter({0: 36799, 1: 12607})\n"
     ]
    }
   ],
   "source": [
    "print('Original dataset shape %s' % Counter(y))"
   ]
  },
  {
   "cell_type": "code",
   "execution_count": 78,
   "metadata": {},
   "outputs": [
    {
     "name": "stdout",
     "output_type": "stream",
     "text": [
      "resampled dataset shape Counter({0: 18399, 1: 18399})\n"
     ]
    }
   ],
   "source": [
    "print('resampled dataset shape %s' % Counter(y_resampled))"
   ]
  },
  {
   "attachments": {},
   "cell_type": "markdown",
   "metadata": {},
   "source": [
    "### KNN"
   ]
  },
  {
   "attachments": {},
   "cell_type": "markdown",
   "metadata": {},
   "source": [
    "used the MCC along with the MCC metric because it's a balanced metric for unbalanced datasets, along with the confusion matrix to check if the proper categories are being identified or not"
   ]
  },
  {
   "cell_type": "code",
   "execution_count": 79,
   "metadata": {},
   "outputs": [],
   "source": [
    "# make pipeline\n",
    "pipe_lr = make_pipeline(StandardScaler(), \n",
    "                       KNeighborsClassifier())"
   ]
  },
  {
   "attachments": {},
   "cell_type": "markdown",
   "metadata": {},
   "source": [
    " "
   ]
  },
  {
   "cell_type": "code",
   "execution_count": 80,
   "metadata": {},
   "outputs": [
    {
     "name": "stdout",
     "output_type": "stream",
     "text": [
      "MCC: 0.46277346511336825\n"
     ]
    }
   ],
   "source": [
    "pipe_lr.fit(X_train, y_train)\n",
    "y_pred = pipe_lr.predict(X_test)\n",
    "mcc_lr = matthews_corrcoef(y_test, y_pred)\n",
    "\n",
    "print(f'MCC: {mcc_lr}')"
   ]
  },
  {
   "cell_type": "code",
   "execution_count": 81,
   "metadata": {},
   "outputs": [],
   "source": [
    "confmat = confusion_matrix(y_test, y_pred)"
   ]
  },
  {
   "cell_type": "code",
   "execution_count": 82,
   "metadata": {},
   "outputs": [
    {
     "name": "stdout",
     "output_type": "stream",
     "text": [
      "[[4031 1527]\n",
      " [1439 4043]]\n"
     ]
    }
   ],
   "source": [
    "print(confmat)"
   ]
  },
  {
   "cell_type": "code",
   "execution_count": 83,
   "metadata": {},
   "outputs": [
    {
     "data": {
      "image/png": "[encoded data removed]",
      "text/plain": [
       "<Figure size 250x250 with 1 Axes>"
      ]
     },
     "metadata": {},
     "output_type": "display_data"
    }
   ],
   "source": [
    "\n",
    "\n",
    "fig, ax = plt.subplots(figsize=(2.5, 2.5))\n",
    "ax.matshow(confmat, cmap=plt.cm.Blues, alpha=0.2)\n",
    "\n",
    "for i in range(confmat.shape[0]):\n",
    "  for j in range(confmat.shape[1]):\n",
    "    ax.text(x=j, y=i, s=confmat[i, j],va='center', ha='center')\n",
    "ax.xaxis.set_ticks_position('bottom')\n",
    "plt.xlabel('Predicted label')\n",
    "plt.ylabel('True label')\n",
    "plt.title('KNN Confusion Matrix');\n",
    "\n"
   ]
  },
  {
   "cell_type": "code",
   "execution_count": 84,
   "metadata": {},
   "outputs": [],
   "source": [
    "scorer = make_scorer(matthews_corrcoef)\n",
    "rf = KNeighborsClassifier()"
   ]
  },
  {
   "cell_type": "code",
   "execution_count": 89,
   "metadata": {},
   "outputs": [
    {
     "data": {
      "image/png": "[encoded data removed]",
      "text/plain": [
       "<Figure size 1000x300 with 1 Axes>"
      ]
     },
     "metadata": {},
     "output_type": "display_data"
    }
   ],
   "source": [
    "# Compute feature importance using permutation importance\n",
    "result = permutation_importance(pipe_lr, X_test, y_test ,scoring= scorer, random_state=42)\n",
    "\n",
    "# Get feature names\n",
    "feature_names = list(df_clean.drop('duration_coded', axis=1).columns)\n",
    "\n",
    "# Sort features by their importance scores\n",
    "sorted_idx = result.importances_mean.argsort()\n",
    "\n",
    "# Plot feature importance scores\n",
    "fig, ax = plt.subplots()\n",
    "ax.boxplot(result.importances[sorted_idx].T, vert=False, labels=np.array(feature_names)[sorted_idx])\n",
    "ax.set_title(\"Permutation Importances\")\n",
    "fig.tight_layout()\n",
    "plt.show()"
   ]
  },
  {
   "attachments": {},
   "cell_type": "markdown",
   "metadata": {},
   "source": [
    "# Conclusion "
   ]
  },
  {
   "attachments": {},
   "cell_type": "markdown",
   "metadata": {},
   "source": [
    "So based on the feature importance of the model they can experiment with:\n",
    "\n",
    "* Improving the quality of drivers or making more avalaible through tougher screening \n",
    "* Provide free black rides/rewards \n",
    "* Increase the distance traveled in the first 30 days \n",
    "* Increase the number of trips taken in the first 30 days through discounts, rewards, etc\n",
    "* Experiment with surge multipliers and trying to increase the number of trips taken in a week"
   ]
  }
 ],
 "metadata": {
  "kernelspec": {
   "display_name": "capstone",
   "language": "python",
   "name": "python3"
  },
  "language_info": {
   "codemirror_mode": {
    "name": "ipython",
    "version": 3
   },
   "file_extension": ".py",
   "mimetype": "text/x-python",
   "name": "python",
   "nbconvert_exporter": "python",
   "pygments_lexer": "ipython3",
   "version": "3.9.0"
  },
  "orig_nbformat": 4,
  "vscode": {
   "interpreter": {
    "hash": "2252a2cd0eb11e118345e3d7d2ca8b4d03aa1b21884bd3967224a977267aafb2"
   }
  }
 },
 "nbformat": 4,
 "nbformat_minor": 2
}
